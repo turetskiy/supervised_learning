{
  "metadata": {
    "ExecuteTimeLog": [
      {
        "duration": 104,
        "start_time": "2022-12-13T10:05:27.423Z"
      },
      {
        "duration": 627,
        "start_time": "2022-12-13T10:05:38.957Z"
      },
      {
        "duration": 83,
        "start_time": "2022-12-13T10:05:49.358Z"
      },
      {
        "duration": 48,
        "start_time": "2022-12-13T10:12:19.121Z"
      },
      {
        "duration": 113,
        "start_time": "2022-12-13T10:14:44.064Z"
      },
      {
        "duration": 42,
        "start_time": "2022-12-13T10:15:27.326Z"
      },
      {
        "duration": 51,
        "start_time": "2022-12-13T10:15:49.531Z"
      },
      {
        "duration": 49,
        "start_time": "2022-12-13T10:16:00.716Z"
      },
      {
        "duration": 527,
        "start_time": "2022-12-13T10:16:55.487Z"
      },
      {
        "duration": 55,
        "start_time": "2022-12-13T10:17:28.235Z"
      },
      {
        "duration": 58,
        "start_time": "2022-12-13T10:18:28.742Z"
      },
      {
        "duration": 43,
        "start_time": "2022-12-13T10:18:48.319Z"
      },
      {
        "duration": 43,
        "start_time": "2022-12-13T10:19:47.779Z"
      },
      {
        "duration": 41,
        "start_time": "2022-12-13T10:19:57.615Z"
      },
      {
        "duration": 45,
        "start_time": "2022-12-13T10:20:29.285Z"
      },
      {
        "duration": 83,
        "start_time": "2022-12-13T10:20:40.374Z"
      },
      {
        "duration": 41,
        "start_time": "2022-12-13T10:20:43.827Z"
      },
      {
        "duration": 54,
        "start_time": "2022-12-13T10:22:09.602Z"
      },
      {
        "duration": 65,
        "start_time": "2022-12-13T10:23:01.135Z"
      },
      {
        "duration": 55,
        "start_time": "2022-12-13T10:24:05.378Z"
      },
      {
        "duration": 58,
        "start_time": "2022-12-13T10:24:19.406Z"
      },
      {
        "duration": 76,
        "start_time": "2022-12-13T10:24:31.922Z"
      },
      {
        "duration": 65,
        "start_time": "2022-12-13T10:24:50.147Z"
      },
      {
        "duration": 56,
        "start_time": "2022-12-13T10:25:16.589Z"
      },
      {
        "duration": 55,
        "start_time": "2022-12-13T10:25:32.837Z"
      },
      {
        "duration": 64,
        "start_time": "2022-12-13T10:25:49.066Z"
      },
      {
        "duration": 57,
        "start_time": "2022-12-13T10:26:09.104Z"
      },
      {
        "duration": 60,
        "start_time": "2022-12-13T10:26:30.624Z"
      },
      {
        "duration": 55,
        "start_time": "2022-12-13T10:26:38.644Z"
      },
      {
        "duration": 62,
        "start_time": "2022-12-13T10:26:45.466Z"
      },
      {
        "duration": 53,
        "start_time": "2022-12-13T10:27:16.076Z"
      },
      {
        "duration": 64,
        "start_time": "2022-12-13T10:27:41.850Z"
      },
      {
        "duration": 622,
        "start_time": "2022-12-13T10:27:52.935Z"
      },
      {
        "duration": 54,
        "start_time": "2022-12-13T10:28:03.179Z"
      },
      {
        "duration": 51,
        "start_time": "2022-12-13T10:28:14.966Z"
      },
      {
        "duration": 67,
        "start_time": "2022-12-13T10:28:33.985Z"
      },
      {
        "duration": 67,
        "start_time": "2022-12-13T10:28:49.214Z"
      },
      {
        "duration": 58,
        "start_time": "2022-12-13T10:29:05.755Z"
      },
      {
        "duration": 1564,
        "start_time": "2022-12-13T10:37:06.988Z"
      },
      {
        "duration": 1446,
        "start_time": "2022-12-13T10:37:45.579Z"
      },
      {
        "duration": 1696,
        "start_time": "2022-12-13T10:41:02.126Z"
      },
      {
        "duration": 198,
        "start_time": "2022-12-13T10:41:30.173Z"
      },
      {
        "duration": 176,
        "start_time": "2022-12-13T10:42:10.504Z"
      },
      {
        "duration": 137,
        "start_time": "2022-12-13T10:42:18.530Z"
      },
      {
        "duration": 165,
        "start_time": "2022-12-13T10:43:23.044Z"
      },
      {
        "duration": 68,
        "start_time": "2022-12-13T10:43:56.844Z"
      },
      {
        "duration": 54,
        "start_time": "2022-12-13T10:44:11.547Z"
      },
      {
        "duration": 1770,
        "start_time": "2022-12-13T10:44:29.323Z"
      },
      {
        "duration": 1726,
        "start_time": "2022-12-13T10:44:43.613Z"
      },
      {
        "duration": 1783,
        "start_time": "2022-12-13T10:44:53.612Z"
      },
      {
        "duration": 1689,
        "start_time": "2022-12-13T10:49:22.425Z"
      },
      {
        "duration": 1559,
        "start_time": "2022-12-13T10:52:40.262Z"
      },
      {
        "duration": 1684,
        "start_time": "2022-12-13T10:53:41.001Z"
      },
      {
        "duration": 56,
        "start_time": "2022-12-13T10:53:54.301Z"
      },
      {
        "duration": 66,
        "start_time": "2022-12-13T10:54:00.920Z"
      },
      {
        "duration": 64,
        "start_time": "2022-12-13T10:55:27.537Z"
      },
      {
        "duration": 54,
        "start_time": "2022-12-13T10:56:56.993Z"
      },
      {
        "duration": 310,
        "start_time": "2022-12-13T10:57:22.388Z"
      },
      {
        "duration": 55,
        "start_time": "2022-12-13T10:57:31.744Z"
      },
      {
        "duration": 52,
        "start_time": "2022-12-13T10:57:39.318Z"
      },
      {
        "duration": 53,
        "start_time": "2022-12-13T11:07:44.647Z"
      },
      {
        "duration": 53,
        "start_time": "2022-12-13T11:07:57.874Z"
      },
      {
        "duration": 56,
        "start_time": "2022-12-13T11:08:16.835Z"
      },
      {
        "duration": 53,
        "start_time": "2022-12-13T11:08:38.518Z"
      },
      {
        "duration": 1446,
        "start_time": "2022-12-13T11:08:55.651Z"
      },
      {
        "duration": 1493,
        "start_time": "2022-12-13T11:09:13.913Z"
      },
      {
        "duration": 1539,
        "start_time": "2022-12-13T11:09:26.713Z"
      },
      {
        "duration": 59,
        "start_time": "2022-12-13T11:09:35.214Z"
      },
      {
        "duration": 50,
        "start_time": "2022-12-13T11:09:43.751Z"
      },
      {
        "duration": 56,
        "start_time": "2022-12-13T11:10:12.000Z"
      },
      {
        "duration": 61,
        "start_time": "2022-12-13T11:10:26.751Z"
      },
      {
        "duration": 48,
        "start_time": "2022-12-13T11:10:49.620Z"
      },
      {
        "duration": 1459,
        "start_time": "2022-12-13T11:11:10.494Z"
      },
      {
        "duration": 21223,
        "start_time": "2022-12-13T11:19:24.657Z"
      },
      {
        "duration": 83,
        "start_time": "2022-12-13T12:24:53.198Z"
      },
      {
        "duration": 63,
        "start_time": "2022-12-13T12:27:11.068Z"
      },
      {
        "duration": 15079,
        "start_time": "2022-12-13T12:27:29.764Z"
      },
      {
        "duration": 14028,
        "start_time": "2022-12-13T13:10:13.600Z"
      },
      {
        "duration": 1304,
        "start_time": "2022-12-13T13:11:58.544Z"
      },
      {
        "duration": 1714,
        "start_time": "2022-12-13T13:29:51.808Z"
      },
      {
        "duration": 1247,
        "start_time": "2022-12-13T13:30:06.874Z"
      },
      {
        "duration": 11,
        "start_time": "2022-12-13T13:56:42.971Z"
      },
      {
        "duration": 24,
        "start_time": "2022-12-13T13:56:55.089Z"
      },
      {
        "duration": 275,
        "start_time": "2022-12-13T15:11:06.445Z"
      },
      {
        "duration": 32,
        "start_time": "2022-12-13T15:12:03.834Z"
      },
      {
        "duration": 21,
        "start_time": "2022-12-13T15:13:21.969Z"
      },
      {
        "duration": 1434,
        "start_time": "2022-12-13T15:14:33.020Z"
      },
      {
        "duration": 2751,
        "start_time": "2022-12-14T07:44:26.415Z"
      },
      {
        "duration": 22,
        "start_time": "2022-12-14T07:44:33.324Z"
      },
      {
        "duration": 5,
        "start_time": "2022-12-14T07:44:55.735Z"
      },
      {
        "duration": 4,
        "start_time": "2022-12-14T07:45:22.775Z"
      },
      {
        "duration": 5,
        "start_time": "2022-12-14T07:45:34.812Z"
      },
      {
        "duration": 5,
        "start_time": "2022-12-14T07:56:57.197Z"
      },
      {
        "duration": 5,
        "start_time": "2022-12-14T08:08:16.325Z"
      },
      {
        "duration": 118,
        "start_time": "2022-12-14T08:09:49.992Z"
      },
      {
        "duration": 194,
        "start_time": "2022-12-14T08:10:01.830Z"
      },
      {
        "duration": 123,
        "start_time": "2022-12-14T08:13:47.973Z"
      },
      {
        "duration": 105,
        "start_time": "2022-12-14T08:14:08.624Z"
      },
      {
        "duration": 245,
        "start_time": "2022-12-14T09:35:10.300Z"
      },
      {
        "duration": 14,
        "start_time": "2022-12-14T09:35:33.043Z"
      },
      {
        "duration": 10,
        "start_time": "2022-12-14T09:35:56.476Z"
      },
      {
        "duration": 11,
        "start_time": "2022-12-14T09:36:00.632Z"
      },
      {
        "duration": 173,
        "start_time": "2022-12-14T09:36:14.023Z"
      },
      {
        "duration": 3156,
        "start_time": "2022-12-17T20:14:40.565Z"
      },
      {
        "duration": 199,
        "start_time": "2022-12-17T20:14:43.723Z"
      },
      {
        "duration": 2894,
        "start_time": "2022-12-19T07:43:54.876Z"
      },
      {
        "duration": 381,
        "start_time": "2022-12-19T07:43:57.772Z"
      },
      {
        "duration": 207,
        "start_time": "2022-12-19T07:44:27.751Z"
      },
      {
        "duration": 321,
        "start_time": "2022-12-19T07:47:15.437Z"
      },
      {
        "duration": 80,
        "start_time": "2022-12-19T07:58:27.573Z"
      },
      {
        "duration": 72,
        "start_time": "2022-12-19T08:12:56.142Z"
      },
      {
        "duration": 322,
        "start_time": "2022-12-19T08:13:24.532Z"
      },
      {
        "duration": 44,
        "start_time": "2022-12-19T10:01:55.609Z"
      },
      {
        "duration": 42,
        "start_time": "2022-12-19T10:02:23.311Z"
      },
      {
        "duration": 28,
        "start_time": "2022-12-19T10:02:33.427Z"
      },
      {
        "duration": 58,
        "start_time": "2022-12-19T10:04:46.006Z"
      },
      {
        "duration": 96,
        "start_time": "2022-12-19T10:06:36.067Z"
      },
      {
        "duration": 112,
        "start_time": "2022-12-19T10:07:23.042Z"
      },
      {
        "duration": 40,
        "start_time": "2022-12-19T10:07:28.621Z"
      },
      {
        "duration": 19,
        "start_time": "2022-12-19T10:08:24.871Z"
      },
      {
        "duration": 18,
        "start_time": "2022-12-19T10:08:37.936Z"
      },
      {
        "duration": 21,
        "start_time": "2022-12-19T10:08:47.603Z"
      },
      {
        "duration": 19,
        "start_time": "2022-12-19T10:09:22.989Z"
      },
      {
        "duration": 166,
        "start_time": "2022-12-19T10:10:27.289Z"
      },
      {
        "duration": 60,
        "start_time": "2022-12-19T10:11:10.393Z"
      },
      {
        "duration": 68,
        "start_time": "2022-12-19T10:11:36.986Z"
      },
      {
        "duration": 72,
        "start_time": "2022-12-19T10:16:37.491Z"
      },
      {
        "duration": 36,
        "start_time": "2022-12-19T10:16:55.521Z"
      },
      {
        "duration": 230,
        "start_time": "2022-12-19T10:17:13.571Z"
      },
      {
        "duration": 163,
        "start_time": "2022-12-19T10:18:21.090Z"
      },
      {
        "duration": 146,
        "start_time": "2022-12-19T10:18:39.323Z"
      },
      {
        "duration": 184,
        "start_time": "2022-12-19T10:20:05.074Z"
      },
      {
        "duration": 191,
        "start_time": "2022-12-19T10:20:16.277Z"
      },
      {
        "duration": 1177,
        "start_time": "2022-12-19T10:28:21.414Z"
      },
      {
        "duration": 1303,
        "start_time": "2022-12-19T10:29:58.484Z"
      },
      {
        "duration": 1176,
        "start_time": "2022-12-19T10:31:48.057Z"
      },
      {
        "duration": 45,
        "start_time": "2022-12-19T10:33:14.972Z"
      },
      {
        "duration": 1294,
        "start_time": "2022-12-19T10:34:30.011Z"
      },
      {
        "duration": 196,
        "start_time": "2022-12-19T10:34:38.469Z"
      },
      {
        "duration": 162,
        "start_time": "2022-12-19T10:34:50.996Z"
      },
      {
        "duration": 198,
        "start_time": "2022-12-19T10:36:01.765Z"
      },
      {
        "duration": 184,
        "start_time": "2022-12-19T10:36:15.781Z"
      },
      {
        "duration": 146,
        "start_time": "2022-12-19T10:36:26.815Z"
      },
      {
        "duration": 223,
        "start_time": "2022-12-19T10:37:28.043Z"
      },
      {
        "duration": 1188,
        "start_time": "2022-12-19T10:38:32.611Z"
      },
      {
        "duration": 257,
        "start_time": "2022-12-19T10:38:33.800Z"
      },
      {
        "duration": 310,
        "start_time": "2022-12-19T10:38:34.059Z"
      },
      {
        "duration": 231,
        "start_time": "2022-12-19T10:39:25.428Z"
      },
      {
        "duration": 230,
        "start_time": "2022-12-19T10:39:40.638Z"
      },
      {
        "duration": 453,
        "start_time": "2022-12-19T10:41:03.458Z"
      },
      {
        "duration": 928,
        "start_time": "2022-12-19T11:02:19.706Z"
      },
      {
        "duration": 1991,
        "start_time": "2022-12-19T11:02:26.247Z"
      },
      {
        "duration": 325,
        "start_time": "2022-12-19T11:02:28.240Z"
      },
      {
        "duration": 572,
        "start_time": "2022-12-19T11:02:28.655Z"
      },
      {
        "duration": 404,
        "start_time": "2022-12-19T11:03:53.499Z"
      },
      {
        "duration": 385,
        "start_time": "2022-12-19T11:04:11.610Z"
      },
      {
        "duration": 490,
        "start_time": "2022-12-19T11:04:19.824Z"
      },
      {
        "duration": 552,
        "start_time": "2022-12-19T11:04:42.370Z"
      },
      {
        "duration": 567,
        "start_time": "2022-12-19T11:05:08.844Z"
      },
      {
        "duration": 938,
        "start_time": "2022-12-19T11:05:30.037Z"
      },
      {
        "duration": 2220,
        "start_time": "2022-12-19T11:06:13.832Z"
      },
      {
        "duration": 1281,
        "start_time": "2022-12-19T11:06:44.715Z"
      },
      {
        "duration": 1782,
        "start_time": "2022-12-19T11:06:55.842Z"
      },
      {
        "duration": 3094,
        "start_time": "2022-12-19T11:07:08.102Z"
      },
      {
        "duration": 82,
        "start_time": "2022-12-19T11:10:34.431Z"
      },
      {
        "duration": 2859,
        "start_time": "2022-12-19T11:10:46.400Z"
      },
      {
        "duration": 6152,
        "start_time": "2022-12-19T11:11:00.731Z"
      },
      {
        "duration": 7344,
        "start_time": "2022-12-19T11:11:22.741Z"
      },
      {
        "duration": 4703,
        "start_time": "2022-12-19T11:11:38.619Z"
      },
      {
        "duration": 105,
        "start_time": "2022-12-19T11:13:03.449Z"
      },
      {
        "duration": 35177,
        "start_time": "2022-12-19T11:13:09.549Z"
      },
      {
        "duration": 34922,
        "start_time": "2022-12-19T11:13:53.231Z"
      },
      {
        "duration": 104925,
        "start_time": "2022-12-19T11:15:11.203Z"
      },
      {
        "duration": 296629,
        "start_time": "2022-12-19T11:19:53.478Z"
      },
      {
        "duration": 387144,
        "start_time": "2022-12-19T11:27:05.543Z"
      },
      {
        "duration": 684,
        "start_time": "2022-12-19T11:57:34.903Z"
      },
      {
        "duration": 9288,
        "start_time": "2022-12-19T11:57:54.880Z"
      },
      {
        "duration": 81034,
        "start_time": "2022-12-19T11:58:36.176Z"
      },
      {
        "duration": 2601,
        "start_time": "2022-12-19T12:26:07.433Z"
      },
      {
        "duration": 395,
        "start_time": "2022-12-19T12:26:10.036Z"
      },
      {
        "duration": 139459,
        "start_time": "2022-12-19T12:26:10.522Z"
      },
      {
        "duration": 140380,
        "start_time": "2022-12-19T12:34:37.145Z"
      },
      {
        "duration": 583002,
        "start_time": "2022-12-19T12:40:30.702Z"
      },
      {
        "duration": 384834,
        "start_time": "2022-12-19T12:53:24.814Z"
      },
      {
        "duration": 1294,
        "start_time": "2022-12-19T13:04:11.284Z"
      },
      {
        "duration": 434,
        "start_time": "2022-12-19T13:04:53.153Z"
      },
      {
        "duration": 1640,
        "start_time": "2022-12-19T13:05:13.450Z"
      },
      {
        "duration": 1199,
        "start_time": "2022-12-19T13:05:24.845Z"
      },
      {
        "duration": 276,
        "start_time": "2022-12-19T13:05:26.046Z"
      },
      {
        "duration": 1764,
        "start_time": "2022-12-19T13:05:26.325Z"
      },
      {
        "duration": 48,
        "start_time": "2022-12-19T13:11:41.002Z"
      },
      {
        "duration": 375344,
        "start_time": "2022-12-19T13:11:45.990Z"
      },
      {
        "duration": 1308,
        "start_time": "2022-12-19T15:23:22.479Z"
      },
      {
        "duration": 339,
        "start_time": "2022-12-19T16:13:25.400Z"
      },
      {
        "duration": 1086,
        "start_time": "2022-12-19T16:13:55.023Z"
      },
      {
        "duration": 1369,
        "start_time": "2022-12-19T16:14:36.430Z"
      },
      {
        "duration": 1219,
        "start_time": "2022-12-19T16:14:53.507Z"
      },
      {
        "duration": 1252,
        "start_time": "2022-12-19T16:15:20.843Z"
      },
      {
        "duration": 1214,
        "start_time": "2022-12-19T16:15:33.781Z"
      },
      {
        "duration": 1199,
        "start_time": "2022-12-19T16:16:10.453Z"
      },
      {
        "duration": 1251,
        "start_time": "2022-12-19T16:16:52.194Z"
      },
      {
        "duration": 1215,
        "start_time": "2022-12-19T16:17:15.136Z"
      },
      {
        "duration": 1258,
        "start_time": "2022-12-19T16:17:29.817Z"
      },
      {
        "duration": 1218,
        "start_time": "2022-12-19T16:17:39.604Z"
      },
      {
        "duration": 1170,
        "start_time": "2022-12-19T16:17:51.953Z"
      },
      {
        "duration": 1138,
        "start_time": "2022-12-19T16:18:05.248Z"
      },
      {
        "duration": 1252,
        "start_time": "2022-12-19T16:18:16.392Z"
      },
      {
        "duration": 1189,
        "start_time": "2022-12-19T16:18:27.668Z"
      },
      {
        "duration": 1196,
        "start_time": "2022-12-19T16:18:39.985Z"
      },
      {
        "duration": 1178,
        "start_time": "2022-12-19T16:18:50.880Z"
      },
      {
        "duration": 1227,
        "start_time": "2022-12-19T16:19:08.029Z"
      },
      {
        "duration": 1268,
        "start_time": "2022-12-19T16:19:24.996Z"
      },
      {
        "duration": 1230,
        "start_time": "2022-12-19T16:19:31.734Z"
      },
      {
        "duration": 1176,
        "start_time": "2022-12-19T16:19:38.056Z"
      },
      {
        "duration": 1246,
        "start_time": "2022-12-19T16:19:44.827Z"
      },
      {
        "duration": 1175,
        "start_time": "2022-12-19T16:19:50.479Z"
      },
      {
        "duration": 1194,
        "start_time": "2022-12-19T16:20:10.478Z"
      },
      {
        "duration": 1267,
        "start_time": "2022-12-19T16:20:19.174Z"
      },
      {
        "duration": 1436,
        "start_time": "2022-12-19T16:20:27.726Z"
      },
      {
        "duration": 1468,
        "start_time": "2022-12-19T16:20:41.106Z"
      },
      {
        "duration": 1468,
        "start_time": "2022-12-19T16:20:48.216Z"
      },
      {
        "duration": 1419,
        "start_time": "2022-12-19T16:20:56.969Z"
      },
      {
        "duration": 1576,
        "start_time": "2022-12-19T16:21:03.095Z"
      },
      {
        "duration": 1543,
        "start_time": "2022-12-19T16:21:09.320Z"
      },
      {
        "duration": 1513,
        "start_time": "2022-12-19T16:21:16.388Z"
      },
      {
        "duration": 1732,
        "start_time": "2022-12-19T16:21:22.191Z"
      },
      {
        "duration": 1994,
        "start_time": "2022-12-19T16:21:29.774Z"
      },
      {
        "duration": 2159,
        "start_time": "2022-12-19T16:21:35.256Z"
      },
      {
        "duration": 2555,
        "start_time": "2022-12-19T16:21:42.301Z"
      },
      {
        "duration": 2394,
        "start_time": "2022-12-19T16:21:52.127Z"
      },
      {
        "duration": 2779,
        "start_time": "2022-12-19T16:22:04.592Z"
      },
      {
        "duration": 4102,
        "start_time": "2022-12-19T16:22:16.223Z"
      },
      {
        "duration": 4119,
        "start_time": "2022-12-19T16:22:23.897Z"
      },
      {
        "duration": 1430,
        "start_time": "2022-12-19T16:22:36.369Z"
      },
      {
        "duration": 1227,
        "start_time": "2022-12-19T16:22:44.457Z"
      },
      {
        "duration": 1396,
        "start_time": "2022-12-19T16:22:50.286Z"
      },
      {
        "duration": 1533,
        "start_time": "2022-12-19T16:23:00.899Z"
      },
      {
        "duration": 1411,
        "start_time": "2022-12-19T16:23:22.638Z"
      },
      {
        "duration": 1114,
        "start_time": "2022-12-19T16:23:47.939Z"
      },
      {
        "duration": 1275,
        "start_time": "2022-12-19T16:24:01.386Z"
      },
      {
        "duration": 1351,
        "start_time": "2022-12-19T16:24:13.980Z"
      },
      {
        "duration": 1513,
        "start_time": "2022-12-19T16:24:24.531Z"
      },
      {
        "duration": 1449,
        "start_time": "2022-12-19T16:25:16.792Z"
      },
      {
        "duration": 1301,
        "start_time": "2022-12-19T16:25:41.189Z"
      },
      {
        "duration": 1408,
        "start_time": "2022-12-19T16:25:51.554Z"
      },
      {
        "duration": 1850,
        "start_time": "2022-12-19T16:26:01.147Z"
      },
      {
        "duration": 1579,
        "start_time": "2022-12-19T16:26:13.999Z"
      },
      {
        "duration": 1408,
        "start_time": "2022-12-19T16:26:26.207Z"
      },
      {
        "duration": 1043,
        "start_time": "2022-12-19T16:27:28.203Z"
      },
      {
        "duration": 287,
        "start_time": "2022-12-19T16:27:29.247Z"
      },
      {
        "duration": 1280,
        "start_time": "2022-12-19T16:27:29.621Z"
      },
      {
        "duration": 1704,
        "start_time": "2022-12-19T16:27:50.717Z"
      },
      {
        "duration": 1416,
        "start_time": "2022-12-19T16:28:01.676Z"
      },
      {
        "duration": 1957,
        "start_time": "2022-12-19T16:28:13.134Z"
      },
      {
        "duration": 2484,
        "start_time": "2022-12-19T16:28:24.570Z"
      },
      {
        "duration": 3673,
        "start_time": "2022-12-19T16:28:38.427Z"
      },
      {
        "duration": 1401,
        "start_time": "2022-12-19T16:28:47.324Z"
      },
      {
        "duration": 1093,
        "start_time": "2022-12-19T16:28:59.149Z"
      },
      {
        "duration": 283,
        "start_time": "2022-12-19T16:29:00.243Z"
      },
      {
        "duration": 2094,
        "start_time": "2022-12-19T16:29:00.528Z"
      },
      {
        "duration": 1424,
        "start_time": "2022-12-19T16:29:10.852Z"
      },
      {
        "duration": 1496,
        "start_time": "2022-12-19T16:30:20.014Z"
      },
      {
        "duration": 1448,
        "start_time": "2022-12-19T16:30:31.763Z"
      },
      {
        "duration": 1213,
        "start_time": "2022-12-19T16:30:39.045Z"
      },
      {
        "duration": 1397,
        "start_time": "2022-12-19T16:30:45.573Z"
      },
      {
        "duration": 1395,
        "start_time": "2022-12-19T16:30:53.128Z"
      },
      {
        "duration": 1435,
        "start_time": "2022-12-19T16:31:01.639Z"
      },
      {
        "duration": 1404,
        "start_time": "2022-12-19T16:31:08.823Z"
      },
      {
        "duration": 1460,
        "start_time": "2022-12-19T16:31:15.203Z"
      },
      {
        "duration": 1296,
        "start_time": "2022-12-19T16:31:24.645Z"
      },
      {
        "duration": 1111,
        "start_time": "2022-12-19T16:31:31.376Z"
      },
      {
        "duration": 1117,
        "start_time": "2022-12-19T16:32:53.666Z"
      },
      {
        "duration": 2537,
        "start_time": "2022-12-19T16:33:02.690Z"
      },
      {
        "duration": 1754,
        "start_time": "2022-12-19T16:33:12.972Z"
      },
      {
        "duration": 1531,
        "start_time": "2022-12-19T16:33:20.247Z"
      },
      {
        "duration": 1178,
        "start_time": "2022-12-19T16:33:26.309Z"
      },
      {
        "duration": 1160,
        "start_time": "2022-12-19T16:40:20.935Z"
      },
      {
        "duration": 1077,
        "start_time": "2022-12-19T16:40:29.414Z"
      },
      {
        "duration": 238,
        "start_time": "2022-12-19T16:40:30.493Z"
      },
      {
        "duration": 1221,
        "start_time": "2022-12-19T16:40:30.822Z"
      },
      {
        "duration": 1383,
        "start_time": "2022-12-19T16:41:00.933Z"
      },
      {
        "duration": 1193,
        "start_time": "2022-12-19T16:41:16.532Z"
      },
      {
        "duration": 882,
        "start_time": "2022-12-19T16:41:28.394Z"
      },
      {
        "duration": 1080,
        "start_time": "2022-12-19T16:41:37.505Z"
      },
      {
        "duration": 189,
        "start_time": "2022-12-19T16:41:52.134Z"
      },
      {
        "duration": 1050,
        "start_time": "2022-12-19T16:41:57.179Z"
      },
      {
        "duration": 1151,
        "start_time": "2022-12-19T16:42:05.629Z"
      },
      {
        "duration": 1175,
        "start_time": "2022-12-19T16:42:17.973Z"
      },
      {
        "duration": 1141,
        "start_time": "2022-12-19T16:42:28.141Z"
      },
      {
        "duration": 1064,
        "start_time": "2022-12-19T16:42:37.066Z"
      },
      {
        "duration": 1100,
        "start_time": "2022-12-19T16:42:48.260Z"
      },
      {
        "duration": 1128,
        "start_time": "2022-12-19T16:42:58.549Z"
      },
      {
        "duration": 1581,
        "start_time": "2022-12-19T16:43:13.194Z"
      },
      {
        "duration": 1138,
        "start_time": "2022-12-19T16:43:22.544Z"
      },
      {
        "duration": 1953,
        "start_time": "2022-12-19T16:43:33.382Z"
      },
      {
        "duration": 2411,
        "start_time": "2022-12-19T16:43:46.189Z"
      },
      {
        "duration": 1835,
        "start_time": "2022-12-19T16:43:56.488Z"
      },
      {
        "duration": 2019,
        "start_time": "2022-12-19T16:44:04.232Z"
      },
      {
        "duration": 4639,
        "start_time": "2022-12-19T16:44:19.866Z"
      },
      {
        "duration": 2859,
        "start_time": "2022-12-19T16:44:30.589Z"
      },
      {
        "duration": 1718,
        "start_time": "2022-12-19T16:44:38.516Z"
      },
      {
        "duration": 2279,
        "start_time": "2022-12-19T16:44:45.900Z"
      },
      {
        "duration": 51299,
        "start_time": "2022-12-19T16:45:12.775Z"
      },
      {
        "duration": 656066,
        "start_time": "2022-12-19T16:46:12.882Z"
      },
      {
        "duration": 25096,
        "start_time": "2022-12-19T17:02:28.056Z"
      },
      {
        "duration": 1081,
        "start_time": "2022-12-19T17:03:06.333Z"
      },
      {
        "duration": 400,
        "start_time": "2022-12-19T17:03:07.421Z"
      },
      {
        "duration": 29942,
        "start_time": "2022-12-19T17:03:07.824Z"
      },
      {
        "duration": 37474,
        "start_time": "2022-12-19T17:04:05.695Z"
      },
      {
        "duration": 75646,
        "start_time": "2022-12-19T17:09:44.890Z"
      },
      {
        "duration": 83010,
        "start_time": "2022-12-19T17:11:13.802Z"
      },
      {
        "duration": 1096,
        "start_time": "2022-12-19T17:13:02.298Z"
      },
      {
        "duration": 326,
        "start_time": "2022-12-19T17:13:03.396Z"
      },
      {
        "duration": 82937,
        "start_time": "2022-12-19T17:13:03.725Z"
      },
      {
        "duration": 105812,
        "start_time": "2022-12-19T17:14:52.443Z"
      },
      {
        "duration": 1220,
        "start_time": "2022-12-19T17:32:31.717Z"
      },
      {
        "duration": 1210,
        "start_time": "2022-12-19T17:36:03.324Z"
      },
      {
        "duration": 1203,
        "start_time": "2022-12-19T17:37:01.756Z"
      },
      {
        "duration": 1205,
        "start_time": "2022-12-19T17:37:13.924Z"
      },
      {
        "duration": 1235,
        "start_time": "2022-12-19T17:37:42.884Z"
      },
      {
        "duration": 1227,
        "start_time": "2022-12-19T17:40:08.697Z"
      },
      {
        "duration": 1273,
        "start_time": "2022-12-19T17:41:08.584Z"
      },
      {
        "duration": 709,
        "start_time": "2022-12-19T17:41:30.371Z"
      },
      {
        "duration": 751,
        "start_time": "2022-12-19T17:41:42.803Z"
      },
      {
        "duration": 1094,
        "start_time": "2022-12-19T17:42:36.899Z"
      },
      {
        "duration": 289,
        "start_time": "2022-12-19T17:42:40.437Z"
      },
      {
        "duration": 670,
        "start_time": "2022-12-19T17:42:43.280Z"
      },
      {
        "duration": 627,
        "start_time": "2022-12-19T17:44:08.608Z"
      },
      {
        "duration": 428,
        "start_time": "2022-12-19T17:44:27.215Z"
      },
      {
        "duration": 561,
        "start_time": "2022-12-19T17:44:42.671Z"
      },
      {
        "duration": 631,
        "start_time": "2022-12-19T17:44:57.228Z"
      },
      {
        "duration": 588,
        "start_time": "2022-12-19T17:45:23.214Z"
      },
      {
        "duration": 25397,
        "start_time": "2022-12-19T17:46:00.354Z"
      },
      {
        "duration": 25562,
        "start_time": "2022-12-19T17:46:47.219Z"
      },
      {
        "duration": 25428,
        "start_time": "2022-12-19T17:47:38.162Z"
      },
      {
        "duration": 25333,
        "start_time": "2022-12-19T17:48:11.603Z"
      },
      {
        "duration": 25521,
        "start_time": "2022-12-19T17:48:47.509Z"
      },
      {
        "duration": 101901,
        "start_time": "2022-12-19T17:49:22.230Z"
      },
      {
        "duration": 1377,
        "start_time": "2022-12-19T17:52:24.464Z"
      },
      {
        "duration": 1339,
        "start_time": "2022-12-19T17:52:50.666Z"
      },
      {
        "duration": 1139,
        "start_time": "2022-12-19T17:53:59.576Z"
      },
      {
        "duration": 308,
        "start_time": "2022-12-19T17:54:00.717Z"
      },
      {
        "duration": 1507,
        "start_time": "2022-12-19T17:54:01.027Z"
      },
      {
        "duration": 2882,
        "start_time": "2022-12-20T07:16:24.589Z"
      },
      {
        "duration": 338,
        "start_time": "2022-12-20T07:16:27.473Z"
      },
      {
        "duration": 1585,
        "start_time": "2022-12-20T07:16:27.813Z"
      },
      {
        "duration": 91,
        "start_time": "2022-12-20T07:21:24.060Z"
      },
      {
        "duration": 199,
        "start_time": "2022-12-20T07:25:26.376Z"
      },
      {
        "duration": 1505,
        "start_time": "2022-12-20T07:29:27.165Z"
      },
      {
        "duration": 1610,
        "start_time": "2022-12-20T07:29:46.636Z"
      },
      {
        "duration": 1750,
        "start_time": "2022-12-20T07:38:18.158Z"
      },
      {
        "duration": 1398,
        "start_time": "2022-12-20T07:38:30.067Z"
      },
      {
        "duration": 1145,
        "start_time": "2022-12-20T07:39:09.408Z"
      },
      {
        "duration": 1347,
        "start_time": "2022-12-20T07:39:16.926Z"
      },
      {
        "duration": 340,
        "start_time": "2022-12-20T07:39:18.274Z"
      },
      {
        "duration": 1645,
        "start_time": "2022-12-20T07:39:18.617Z"
      },
      {
        "duration": 197,
        "start_time": "2022-12-20T07:39:20.265Z"
      },
      {
        "duration": 1160,
        "start_time": "2022-12-20T07:39:51.865Z"
      },
      {
        "duration": 289,
        "start_time": "2022-12-20T07:39:53.026Z"
      },
      {
        "duration": 1623,
        "start_time": "2022-12-20T07:39:53.407Z"
      },
      {
        "duration": 199,
        "start_time": "2022-12-20T07:39:55.032Z"
      },
      {
        "duration": 198,
        "start_time": "2022-12-20T07:45:28.938Z"
      },
      {
        "duration": 1081,
        "start_time": "2022-12-20T07:45:42.977Z"
      },
      {
        "duration": 348,
        "start_time": "2022-12-20T07:45:44.060Z"
      },
      {
        "duration": 1545,
        "start_time": "2022-12-20T07:45:44.411Z"
      },
      {
        "duration": 214,
        "start_time": "2022-12-20T07:45:45.958Z"
      },
      {
        "duration": 1615,
        "start_time": "2022-12-20T07:50:55.536Z"
      },
      {
        "duration": 1467,
        "start_time": "2022-12-20T07:51:59.381Z"
      },
      {
        "duration": 1473,
        "start_time": "2022-12-20T07:52:09.850Z"
      },
      {
        "duration": 2221,
        "start_time": "2022-12-20T08:07:58.287Z"
      },
      {
        "duration": 1269,
        "start_time": "2022-12-20T08:08:27.774Z"
      },
      {
        "duration": 1066,
        "start_time": "2022-12-20T08:08:52.226Z"
      },
      {
        "duration": 2224,
        "start_time": "2022-12-20T08:09:13.235Z"
      },
      {
        "duration": 2619,
        "start_time": "2022-12-20T08:09:31.881Z"
      },
      {
        "duration": 3406,
        "start_time": "2022-12-20T08:09:46.593Z"
      },
      {
        "duration": 2543,
        "start_time": "2022-12-20T08:09:55.739Z"
      },
      {
        "duration": 1823,
        "start_time": "2022-12-20T08:10:13.939Z"
      },
      {
        "duration": 1568,
        "start_time": "2022-12-20T08:10:38.096Z"
      },
      {
        "duration": 1748,
        "start_time": "2022-12-20T08:11:09.038Z"
      },
      {
        "duration": 1459,
        "start_time": "2022-12-20T08:12:01.150Z"
      },
      {
        "duration": 1691,
        "start_time": "2022-12-20T08:15:10.478Z"
      },
      {
        "duration": 1313,
        "start_time": "2022-12-20T08:15:26.303Z"
      },
      {
        "duration": 81,
        "start_time": "2022-12-20T08:16:37.239Z"
      },
      {
        "duration": 1469,
        "start_time": "2022-12-20T08:16:46.901Z"
      },
      {
        "duration": 176,
        "start_time": "2022-12-20T08:17:15.042Z"
      },
      {
        "duration": 1004,
        "start_time": "2022-12-20T08:17:24.301Z"
      },
      {
        "duration": 1380,
        "start_time": "2022-12-20T08:17:37.794Z"
      },
      {
        "duration": 1579,
        "start_time": "2022-12-20T08:17:59.184Z"
      },
      {
        "duration": 1744,
        "start_time": "2022-12-20T08:18:09.733Z"
      },
      {
        "duration": 1866,
        "start_time": "2022-12-20T08:18:32.814Z"
      },
      {
        "duration": 1915,
        "start_time": "2022-12-20T08:26:58.951Z"
      },
      {
        "duration": 1857,
        "start_time": "2022-12-20T08:27:12.521Z"
      },
      {
        "duration": 1886,
        "start_time": "2022-12-20T08:27:31.325Z"
      },
      {
        "duration": 1843,
        "start_time": "2022-12-20T08:27:45.344Z"
      },
      {
        "duration": 1424,
        "start_time": "2022-12-20T08:29:02.427Z"
      },
      {
        "duration": 1463,
        "start_time": "2022-12-20T08:29:34.093Z"
      },
      {
        "duration": 1587,
        "start_time": "2022-12-20T08:30:59.639Z"
      },
      {
        "duration": 1606,
        "start_time": "2022-12-20T08:31:19.749Z"
      },
      {
        "duration": 1610,
        "start_time": "2022-12-20T08:31:36.238Z"
      },
      {
        "duration": 1693,
        "start_time": "2022-12-20T08:31:56.166Z"
      },
      {
        "duration": 1826,
        "start_time": "2022-12-20T08:32:06.491Z"
      },
      {
        "duration": 1729,
        "start_time": "2022-12-20T08:32:19.668Z"
      },
      {
        "duration": 1805,
        "start_time": "2022-12-20T08:32:31.996Z"
      },
      {
        "duration": 1779,
        "start_time": "2022-12-20T08:32:41.929Z"
      },
      {
        "duration": 1893,
        "start_time": "2022-12-20T08:32:55.716Z"
      },
      {
        "duration": 1853,
        "start_time": "2022-12-20T08:33:07.728Z"
      },
      {
        "duration": 1855,
        "start_time": "2022-12-20T08:33:20.513Z"
      },
      {
        "duration": 2718,
        "start_time": "2022-12-20T08:33:39.355Z"
      },
      {
        "duration": 1476,
        "start_time": "2022-12-20T08:33:56.430Z"
      },
      {
        "duration": 1443,
        "start_time": "2022-12-20T08:34:06.856Z"
      },
      {
        "duration": 1430,
        "start_time": "2022-12-20T08:34:15.621Z"
      },
      {
        "duration": 1450,
        "start_time": "2022-12-20T08:34:27.220Z"
      },
      {
        "duration": 1469,
        "start_time": "2022-12-20T08:34:36.609Z"
      },
      {
        "duration": 1452,
        "start_time": "2022-12-20T08:34:57.394Z"
      },
      {
        "duration": 1416,
        "start_time": "2022-12-20T08:35:27.531Z"
      },
      {
        "duration": 1383,
        "start_time": "2022-12-20T08:35:51.257Z"
      },
      {
        "duration": 1438,
        "start_time": "2022-12-20T08:35:59.056Z"
      },
      {
        "duration": 1556,
        "start_time": "2022-12-20T08:36:17.106Z"
      },
      {
        "duration": 1438,
        "start_time": "2022-12-20T08:36:34.093Z"
      },
      {
        "duration": 1486,
        "start_time": "2022-12-20T08:36:49.121Z"
      },
      {
        "duration": 1397,
        "start_time": "2022-12-20T08:37:04.716Z"
      },
      {
        "duration": 1425,
        "start_time": "2022-12-20T08:37:15.321Z"
      },
      {
        "duration": 1480,
        "start_time": "2022-12-20T08:37:30.341Z"
      },
      {
        "duration": 1334,
        "start_time": "2022-12-20T08:37:45.986Z"
      },
      {
        "duration": 1101,
        "start_time": "2022-12-20T08:38:04.181Z"
      },
      {
        "duration": 323,
        "start_time": "2022-12-20T08:38:05.284Z"
      },
      {
        "duration": 1549,
        "start_time": "2022-12-20T08:38:05.610Z"
      },
      {
        "duration": 208,
        "start_time": "2022-12-20T08:38:07.162Z"
      },
      {
        "duration": 199,
        "start_time": "2022-12-20T08:40:31.366Z"
      },
      {
        "duration": 281,
        "start_time": "2022-12-20T08:40:46.127Z"
      },
      {
        "duration": 254,
        "start_time": "2022-12-20T08:42:15.050Z"
      },
      {
        "duration": 194,
        "start_time": "2022-12-20T08:42:40.328Z"
      },
      {
        "duration": 107278,
        "start_time": "2022-12-20T08:43:37.241Z"
      },
      {
        "duration": 32459,
        "start_time": "2022-12-20T08:46:41.035Z"
      },
      {
        "duration": 1188,
        "start_time": "2022-12-20T08:48:05.426Z"
      },
      {
        "duration": 292,
        "start_time": "2022-12-20T08:48:06.615Z"
      },
      {
        "duration": 93893,
        "start_time": "2022-12-20T08:48:06.909Z"
      },
      {
        "duration": 210,
        "start_time": "2022-12-20T08:49:40.805Z"
      },
      {
        "duration": 107611,
        "start_time": "2022-12-20T08:53:29.538Z"
      },
      {
        "duration": 161838,
        "start_time": "2022-12-20T08:56:17.545Z"
      },
      {
        "duration": 4154,
        "start_time": "2022-12-20T09:14:13.044Z"
      },
      {
        "duration": 11703,
        "start_time": "2022-12-20T09:15:10.118Z"
      },
      {
        "duration": 4497,
        "start_time": "2022-12-20T09:16:16.873Z"
      },
      {
        "duration": 6542,
        "start_time": "2022-12-20T09:17:00.798Z"
      },
      {
        "duration": 4699,
        "start_time": "2022-12-20T09:17:28.317Z"
      },
      {
        "duration": 286023,
        "start_time": "2022-12-20T09:18:20.418Z"
      },
      {
        "duration": 195503,
        "start_time": "2022-12-20T09:24:51.310Z"
      },
      {
        "duration": 4296,
        "start_time": "2022-12-20T09:33:42.166Z"
      },
      {
        "duration": 1254,
        "start_time": "2022-12-20T09:34:01.905Z"
      },
      {
        "duration": 651,
        "start_time": "2022-12-20T09:34:03.161Z"
      },
      {
        "duration": 4628,
        "start_time": "2022-12-20T09:34:03.816Z"
      },
      {
        "duration": 449,
        "start_time": "2022-12-20T09:34:08.446Z"
      },
      {
        "duration": 5066,
        "start_time": "2022-12-20T09:36:53.885Z"
      },
      {
        "duration": 4567,
        "start_time": "2022-12-20T09:37:09.374Z"
      },
      {
        "duration": 4959,
        "start_time": "2022-12-20T09:37:19.197Z"
      },
      {
        "duration": 5769,
        "start_time": "2022-12-20T09:37:40.798Z"
      },
      {
        "duration": 6035,
        "start_time": "2022-12-20T09:37:51.938Z"
      },
      {
        "duration": 6258,
        "start_time": "2022-12-20T09:38:00.277Z"
      },
      {
        "duration": 5797,
        "start_time": "2022-12-20T09:38:09.303Z"
      },
      {
        "duration": 5967,
        "start_time": "2022-12-20T09:38:18.841Z"
      },
      {
        "duration": 6108,
        "start_time": "2022-12-20T09:38:29.153Z"
      },
      {
        "duration": 6019,
        "start_time": "2022-12-20T09:38:43.355Z"
      },
      {
        "duration": 5835,
        "start_time": "2022-12-20T09:39:01.329Z"
      },
      {
        "duration": 5966,
        "start_time": "2022-12-20T09:39:11.855Z"
      },
      {
        "duration": 5997,
        "start_time": "2022-12-20T09:39:21.950Z"
      },
      {
        "duration": 5868,
        "start_time": "2022-12-20T09:39:30.529Z"
      },
      {
        "duration": 284615,
        "start_time": "2022-12-20T09:40:26.765Z"
      },
      {
        "duration": 97,
        "start_time": "2022-12-20T09:51:48.488Z"
      },
      {
        "duration": 106,
        "start_time": "2022-12-20T09:52:33.241Z"
      },
      {
        "duration": 86,
        "start_time": "2022-12-20T09:52:42.239Z"
      },
      {
        "duration": 88,
        "start_time": "2022-12-20T09:52:46.652Z"
      },
      {
        "duration": 79,
        "start_time": "2022-12-20T09:52:51.521Z"
      },
      {
        "duration": 1659631,
        "start_time": "2022-12-20T09:53:45.510Z"
      },
      {
        "duration": 1105,
        "start_time": "2022-12-20T13:00:29.796Z"
      },
      {
        "duration": 2363,
        "start_time": "2022-12-20T13:00:51.450Z"
      },
      {
        "duration": 702,
        "start_time": "2022-12-20T13:00:53.822Z"
      },
      {
        "duration": 1680910,
        "start_time": "2022-12-20T13:00:54.529Z"
      },
      {
        "duration": 1004,
        "start_time": "2022-12-20T13:28:55.441Z"
      },
      {
        "duration": 72750,
        "start_time": "2022-12-20T13:32:09.526Z"
      },
      {
        "duration": 5933,
        "start_time": "2022-12-20T13:43:47.328Z"
      },
      {
        "duration": 4890,
        "start_time": "2022-12-20T13:44:02.315Z"
      },
      {
        "duration": 6857,
        "start_time": "2022-12-20T13:44:25.920Z"
      },
      {
        "duration": 5026,
        "start_time": "2022-12-20T13:45:44.418Z"
      },
      {
        "duration": 8403,
        "start_time": "2022-12-20T13:46:06.808Z"
      },
      {
        "duration": 6575,
        "start_time": "2022-12-20T13:46:31.077Z"
      },
      {
        "duration": 7193,
        "start_time": "2022-12-20T13:46:46.806Z"
      },
      {
        "duration": 6727,
        "start_time": "2022-12-20T13:46:59.912Z"
      },
      {
        "duration": 7058,
        "start_time": "2022-12-20T13:47:17.902Z"
      },
      {
        "duration": 7277,
        "start_time": "2022-12-20T13:48:19.479Z"
      },
      {
        "duration": 8070,
        "start_time": "2022-12-20T13:49:32.058Z"
      },
      {
        "duration": 8244,
        "start_time": "2022-12-20T13:49:48.197Z"
      },
      {
        "duration": 8385,
        "start_time": "2022-12-20T13:50:07.739Z"
      },
      {
        "duration": 7281,
        "start_time": "2022-12-20T13:50:33.426Z"
      },
      {
        "duration": 7619,
        "start_time": "2022-12-20T13:50:54.191Z"
      },
      {
        "duration": 7878,
        "start_time": "2022-12-20T13:51:08.426Z"
      },
      {
        "duration": 9780,
        "start_time": "2022-12-20T13:51:29.636Z"
      },
      {
        "duration": 6860,
        "start_time": "2022-12-20T13:51:47.169Z"
      },
      {
        "duration": 6827,
        "start_time": "2022-12-20T13:52:03.583Z"
      },
      {
        "duration": 6960,
        "start_time": "2022-12-20T13:52:29.284Z"
      },
      {
        "duration": 7024,
        "start_time": "2022-12-20T13:52:55.307Z"
      },
      {
        "duration": 1198,
        "start_time": "2022-12-20T13:53:07.535Z"
      },
      {
        "duration": 389,
        "start_time": "2022-12-20T13:53:08.737Z"
      },
      {
        "duration": 6813,
        "start_time": "2022-12-20T13:53:09.130Z"
      },
      {
        "duration": 465,
        "start_time": "2022-12-20T13:53:15.945Z"
      },
      {
        "duration": 7243,
        "start_time": "2022-12-20T13:58:04.313Z"
      },
      {
        "duration": 6742,
        "start_time": "2022-12-20T14:39:11.505Z"
      },
      {
        "duration": 306970,
        "start_time": "2022-12-20T15:47:17.844Z"
      },
      {
        "duration": 4198080,
        "start_time": "2022-12-20T16:15:31.504Z"
      },
      {
        "duration": 418383,
        "start_time": "2022-12-20T17:27:13.866Z"
      },
      {
        "duration": 3867,
        "start_time": "2022-12-20T17:41:57.647Z"
      },
      {
        "duration": 1347,
        "start_time": "2022-12-20T17:42:33.638Z"
      },
      {
        "duration": 339,
        "start_time": "2022-12-20T17:42:34.988Z"
      },
      {
        "duration": 3936,
        "start_time": "2022-12-20T17:42:35.328Z"
      },
      {
        "duration": 316,
        "start_time": "2022-12-20T17:42:39.266Z"
      },
      {
        "duration": 4906,
        "start_time": "2022-12-20T17:42:52.500Z"
      },
      {
        "duration": 3962,
        "start_time": "2022-12-20T17:43:00.960Z"
      },
      {
        "duration": 4030,
        "start_time": "2022-12-21T13:31:44.555Z"
      },
      {
        "duration": 523,
        "start_time": "2022-12-21T13:31:48.587Z"
      },
      {
        "duration": 3986,
        "start_time": "2022-12-21T13:31:49.113Z"
      },
      {
        "duration": 6,
        "start_time": "2022-12-21T13:31:56.906Z"
      },
      {
        "duration": 1921,
        "start_time": "2022-12-21T15:05:59.590Z"
      },
      {
        "duration": 1560,
        "start_time": "2022-12-21T15:06:01.513Z"
      },
      {
        "duration": 21,
        "start_time": "2022-12-21T15:06:03.075Z"
      },
      {
        "duration": 486,
        "start_time": "2022-12-21T15:06:03.099Z"
      },
      {
        "duration": 4806,
        "start_time": "2022-12-21T15:06:03.589Z"
      },
      {
        "duration": 402,
        "start_time": "2022-12-21T15:06:08.397Z"
      },
      {
        "duration": 4,
        "start_time": "2022-12-21T15:14:31.119Z"
      },
      {
        "duration": 1385,
        "start_time": "2022-12-21T15:14:31.125Z"
      },
      {
        "duration": 11,
        "start_time": "2022-12-21T15:14:32.512Z"
      },
      {
        "duration": 160,
        "start_time": "2022-12-21T15:14:32.525Z"
      },
      {
        "duration": 158,
        "start_time": "2022-12-21T15:14:32.687Z"
      },
      {
        "duration": 0,
        "start_time": "2022-12-21T15:14:32.847Z"
      },
      {
        "duration": 0,
        "start_time": "2022-12-21T15:14:32.850Z"
      },
      {
        "duration": 0,
        "start_time": "2022-12-21T15:14:32.854Z"
      },
      {
        "duration": 45,
        "start_time": "2022-12-21T15:14:50.405Z"
      },
      {
        "duration": 5,
        "start_time": "2022-12-21T15:15:04.019Z"
      },
      {
        "duration": 1621,
        "start_time": "2022-12-21T15:15:04.026Z"
      },
      {
        "duration": 27,
        "start_time": "2022-12-21T15:15:05.661Z"
      },
      {
        "duration": 132,
        "start_time": "2022-12-21T15:15:05.689Z"
      },
      {
        "duration": 62,
        "start_time": "2022-12-21T15:15:05.823Z"
      },
      {
        "duration": 0,
        "start_time": "2022-12-21T15:15:05.889Z"
      },
      {
        "duration": 0,
        "start_time": "2022-12-21T15:15:05.890Z"
      },
      {
        "duration": 0,
        "start_time": "2022-12-21T15:15:05.892Z"
      },
      {
        "duration": 51,
        "start_time": "2022-12-21T15:15:17.890Z"
      },
      {
        "duration": 382,
        "start_time": "2022-12-21T15:15:44.283Z"
      },
      {
        "duration": 58,
        "start_time": "2022-12-21T15:17:02.539Z"
      },
      {
        "duration": 60,
        "start_time": "2022-12-21T15:17:09.903Z"
      },
      {
        "duration": 241,
        "start_time": "2022-12-21T15:17:13.453Z"
      },
      {
        "duration": 66,
        "start_time": "2022-12-21T15:17:33.674Z"
      },
      {
        "duration": 277,
        "start_time": "2022-12-21T15:19:03.014Z"
      },
      {
        "duration": 5,
        "start_time": "2022-12-21T15:24:44.333Z"
      },
      {
        "duration": 1481,
        "start_time": "2022-12-21T15:24:44.340Z"
      },
      {
        "duration": 12,
        "start_time": "2022-12-21T15:24:45.823Z"
      },
      {
        "duration": 139,
        "start_time": "2022-12-21T15:24:45.837Z"
      },
      {
        "duration": 55,
        "start_time": "2022-12-21T15:24:45.978Z"
      },
      {
        "duration": 335,
        "start_time": "2022-12-21T15:24:46.035Z"
      },
      {
        "duration": 11,
        "start_time": "2022-12-21T15:24:46.372Z"
      },
      {
        "duration": 190,
        "start_time": "2022-12-21T15:24:46.386Z"
      },
      {
        "duration": 100,
        "start_time": "2022-12-21T15:24:46.583Z"
      },
      {
        "duration": 4512,
        "start_time": "2022-12-21T15:24:46.687Z"
      },
      {
        "duration": 366,
        "start_time": "2022-12-21T15:24:51.200Z"
      },
      {
        "duration": 16,
        "start_time": "2022-12-21T15:25:27.575Z"
      },
      {
        "duration": 16,
        "start_time": "2022-12-21T15:25:38.202Z"
      },
      {
        "duration": 32,
        "start_time": "2022-12-21T15:25:42.941Z"
      },
      {
        "duration": 16,
        "start_time": "2022-12-21T15:25:54.294Z"
      },
      {
        "duration": 4616,
        "start_time": "2022-12-21T15:26:19.111Z"
      },
      {
        "duration": 4612,
        "start_time": "2022-12-21T15:26:42.637Z"
      },
      {
        "duration": 1403,
        "start_time": "2022-12-21T15:29:20.293Z"
      },
      {
        "duration": 1351,
        "start_time": "2022-12-21T15:29:56.589Z"
      },
      {
        "duration": 37847,
        "start_time": "2022-12-21T15:30:05.786Z"
      },
      {
        "duration": 2761,
        "start_time": "2022-12-21T15:30:47.875Z"
      },
      {
        "duration": 5,
        "start_time": "2022-12-21T15:31:09.643Z"
      },
      {
        "duration": 1462,
        "start_time": "2022-12-21T15:31:09.650Z"
      },
      {
        "duration": 13,
        "start_time": "2022-12-21T15:31:11.114Z"
      },
      {
        "duration": 157,
        "start_time": "2022-12-21T15:31:11.129Z"
      },
      {
        "duration": 47,
        "start_time": "2022-12-21T15:31:11.289Z"
      },
      {
        "duration": 425,
        "start_time": "2022-12-21T15:31:11.338Z"
      },
      {
        "duration": 18,
        "start_time": "2022-12-21T15:31:11.765Z"
      },
      {
        "duration": 172,
        "start_time": "2022-12-21T15:31:11.791Z"
      },
      {
        "duration": 134,
        "start_time": "2022-12-21T15:31:11.965Z"
      },
      {
        "duration": 2815,
        "start_time": "2022-12-21T15:31:12.101Z"
      },
      {
        "duration": 4638,
        "start_time": "2022-12-21T15:31:14.918Z"
      },
      {
        "duration": 359,
        "start_time": "2022-12-21T15:31:19.567Z"
      },
      {
        "duration": 291,
        "start_time": "2022-12-21T15:31:47.576Z"
      },
      {
        "duration": 297,
        "start_time": "2022-12-21T15:31:54.346Z"
      },
      {
        "duration": 5,
        "start_time": "2022-12-21T15:32:03.311Z"
      },
      {
        "duration": 1458,
        "start_time": "2022-12-21T15:32:03.345Z"
      },
      {
        "duration": 17,
        "start_time": "2022-12-21T15:32:04.807Z"
      },
      {
        "duration": 187,
        "start_time": "2022-12-21T15:32:04.826Z"
      },
      {
        "duration": 76,
        "start_time": "2022-12-21T15:32:05.016Z"
      },
      {
        "duration": 102,
        "start_time": "2022-12-21T15:32:05.095Z"
      },
      {
        "duration": 99,
        "start_time": "2022-12-21T15:32:05.270Z"
      },
      {
        "duration": 88,
        "start_time": "2022-12-21T15:32:05.377Z"
      },
      {
        "duration": 113,
        "start_time": "2022-12-21T15:32:05.473Z"
      },
      {
        "duration": 2902,
        "start_time": "2022-12-21T15:32:05.589Z"
      },
      {
        "duration": 258,
        "start_time": "2022-12-21T15:32:08.494Z"
      },
      {
        "duration": 180,
        "start_time": "2022-12-21T15:32:08.755Z"
      },
      {
        "duration": 238,
        "start_time": "2022-12-21T15:32:57.003Z"
      },
      {
        "duration": 1105621,
        "start_time": "2022-12-21T15:33:10.075Z"
      },
      {
        "duration": 1729,
        "start_time": "2022-12-21T17:57:54.522Z"
      },
      {
        "duration": 1254,
        "start_time": "2022-12-21T17:57:56.253Z"
      },
      {
        "duration": 13,
        "start_time": "2022-12-21T17:57:57.509Z"
      },
      {
        "duration": 209,
        "start_time": "2022-12-21T17:57:57.524Z"
      },
      {
        "duration": 55,
        "start_time": "2022-12-21T17:57:57.735Z"
      },
      {
        "duration": 100,
        "start_time": "2022-12-21T17:57:57.791Z"
      },
      {
        "duration": 8,
        "start_time": "2022-12-21T17:57:57.977Z"
      },
      {
        "duration": 192,
        "start_time": "2022-12-21T17:57:57.986Z"
      },
      {
        "duration": 102,
        "start_time": "2022-12-21T17:57:58.180Z"
      },
      {
        "duration": 2468787,
        "start_time": "2022-12-21T17:57:58.284Z"
      },
      {
        "duration": 0,
        "start_time": "2022-12-21T18:39:07.073Z"
      },
      {
        "duration": 0,
        "start_time": "2022-12-21T18:39:07.076Z"
      },
      {
        "duration": 4,
        "start_time": "2022-12-21T18:39:18.729Z"
      },
      {
        "duration": 1232,
        "start_time": "2022-12-21T18:39:18.735Z"
      },
      {
        "duration": 12,
        "start_time": "2022-12-21T18:39:19.975Z"
      },
      {
        "duration": 105,
        "start_time": "2022-12-21T18:39:19.988Z"
      },
      {
        "duration": 47,
        "start_time": "2022-12-21T18:39:20.095Z"
      },
      {
        "duration": 238,
        "start_time": "2022-12-21T18:39:20.143Z"
      },
      {
        "duration": 95,
        "start_time": "2022-12-21T18:39:20.383Z"
      },
      {
        "duration": 198,
        "start_time": "2022-12-21T18:39:20.480Z"
      },
      {
        "duration": 13,
        "start_time": "2022-12-21T18:39:20.680Z"
      },
      {
        "duration": 348,
        "start_time": "2022-12-21T18:39:20.695Z"
      },
      {
        "duration": 126,
        "start_time": "2022-12-21T18:39:21.044Z"
      },
      {
        "duration": 205183,
        "start_time": "2022-12-21T18:40:53.962Z"
      },
      {
        "duration": 319,
        "start_time": "2022-12-21T18:44:39.942Z"
      },
      {
        "duration": 130,
        "start_time": "2022-12-21T18:50:31.387Z"
      },
      {
        "duration": 6,
        "start_time": "2022-12-21T18:50:54.095Z"
      },
      {
        "duration": 140,
        "start_time": "2022-12-21T18:51:05.807Z"
      },
      {
        "duration": 14,
        "start_time": "2022-12-21T18:51:54.349Z"
      },
      {
        "duration": 223,
        "start_time": "2022-12-21T18:53:10.608Z"
      },
      {
        "duration": 322,
        "start_time": "2022-12-21T18:54:37.610Z"
      },
      {
        "duration": 5,
        "start_time": "2022-12-21T18:57:48.958Z"
      },
      {
        "duration": 1397,
        "start_time": "2022-12-21T18:57:48.965Z"
      },
      {
        "duration": 26,
        "start_time": "2022-12-21T18:57:50.363Z"
      },
      {
        "duration": 110,
        "start_time": "2022-12-21T18:57:50.392Z"
      },
      {
        "duration": 46,
        "start_time": "2022-12-21T18:57:50.507Z"
      },
      {
        "duration": 744,
        "start_time": "2022-12-21T18:57:50.554Z"
      },
      {
        "duration": 4,
        "start_time": "2022-12-21T18:57:51.304Z"
      },
      {
        "duration": 72,
        "start_time": "2022-12-21T18:57:51.309Z"
      },
      {
        "duration": 19,
        "start_time": "2022-12-21T18:57:51.386Z"
      },
      {
        "duration": 169,
        "start_time": "2022-12-21T18:57:51.407Z"
      },
      {
        "duration": 24,
        "start_time": "2022-12-21T18:57:51.580Z"
      },
      {
        "duration": 0,
        "start_time": "2022-12-21T18:57:51.608Z"
      },
      {
        "duration": 4,
        "start_time": "2022-12-21T19:02:45.409Z"
      },
      {
        "duration": 1277,
        "start_time": "2022-12-21T19:02:45.415Z"
      },
      {
        "duration": 17,
        "start_time": "2022-12-21T19:02:46.695Z"
      },
      {
        "duration": 130,
        "start_time": "2022-12-21T19:02:46.714Z"
      },
      {
        "duration": 58,
        "start_time": "2022-12-21T19:02:46.845Z"
      },
      {
        "duration": 779,
        "start_time": "2022-12-21T19:02:46.905Z"
      },
      {
        "duration": 91,
        "start_time": "2022-12-21T19:02:47.686Z"
      },
      {
        "duration": 37,
        "start_time": "2022-12-21T19:02:47.778Z"
      },
      {
        "duration": 13,
        "start_time": "2022-12-21T19:02:47.817Z"
      },
      {
        "duration": 161,
        "start_time": "2022-12-21T19:02:47.831Z"
      },
      {
        "duration": 150,
        "start_time": "2022-12-21T19:02:47.993Z"
      },
      {
        "duration": 391,
        "start_time": "2022-12-21T19:02:48.145Z"
      },
      {
        "duration": 139,
        "start_time": "2022-12-21T19:04:48.498Z"
      },
      {
        "duration": 393,
        "start_time": "2022-12-21T19:05:35.411Z"
      },
      {
        "duration": 145,
        "start_time": "2022-12-21T19:06:09.787Z"
      },
      {
        "duration": 4,
        "start_time": "2022-12-21T19:08:18.423Z"
      },
      {
        "duration": 15,
        "start_time": "2022-12-21T19:08:20.663Z"
      },
      {
        "duration": 4,
        "start_time": "2022-12-21T19:08:44.633Z"
      },
      {
        "duration": 13,
        "start_time": "2022-12-21T19:08:46.322Z"
      },
      {
        "duration": 4,
        "start_time": "2022-12-21T19:08:57.306Z"
      },
      {
        "duration": 13,
        "start_time": "2022-12-21T19:09:00.019Z"
      },
      {
        "duration": 5,
        "start_time": "2022-12-21T19:09:08.145Z"
      },
      {
        "duration": 6,
        "start_time": "2022-12-21T19:09:15.805Z"
      },
      {
        "duration": 19,
        "start_time": "2022-12-21T19:09:18.782Z"
      },
      {
        "duration": 5,
        "start_time": "2022-12-21T19:09:27.908Z"
      },
      {
        "duration": 14,
        "start_time": "2022-12-21T19:09:29.419Z"
      },
      {
        "duration": 5,
        "start_time": "2022-12-21T19:09:37.005Z"
      },
      {
        "duration": 13,
        "start_time": "2022-12-21T19:09:39.285Z"
      },
      {
        "duration": 4,
        "start_time": "2022-12-21T19:09:48.246Z"
      },
      {
        "duration": 14,
        "start_time": "2022-12-21T19:09:50.521Z"
      },
      {
        "duration": 11,
        "start_time": "2022-12-21T19:10:00.686Z"
      },
      {
        "duration": 22,
        "start_time": "2022-12-21T19:10:02.866Z"
      },
      {
        "duration": 7,
        "start_time": "2022-12-21T19:10:11.191Z"
      },
      {
        "duration": 14,
        "start_time": "2022-12-21T19:10:13.596Z"
      },
      {
        "duration": 4,
        "start_time": "2022-12-21T19:10:23.849Z"
      },
      {
        "duration": 16,
        "start_time": "2022-12-21T19:10:25.785Z"
      },
      {
        "duration": 4,
        "start_time": "2022-12-21T19:10:35.106Z"
      },
      {
        "duration": 13,
        "start_time": "2022-12-21T19:10:36.916Z"
      },
      {
        "duration": 5,
        "start_time": "2022-12-21T19:10:44.920Z"
      },
      {
        "duration": 16,
        "start_time": "2022-12-21T19:10:46.779Z"
      },
      {
        "duration": 4,
        "start_time": "2022-12-21T19:10:56.486Z"
      },
      {
        "duration": 18,
        "start_time": "2022-12-21T19:10:57.985Z"
      },
      {
        "duration": 4,
        "start_time": "2022-12-21T19:11:11.112Z"
      },
      {
        "duration": 13,
        "start_time": "2022-12-21T19:11:13.206Z"
      },
      {
        "duration": 4,
        "start_time": "2022-12-21T19:11:22.356Z"
      },
      {
        "duration": 13,
        "start_time": "2022-12-21T19:11:24.962Z"
      },
      {
        "duration": 3,
        "start_time": "2022-12-21T19:11:32.793Z"
      },
      {
        "duration": 22,
        "start_time": "2022-12-21T19:11:35.397Z"
      },
      {
        "duration": 6,
        "start_time": "2022-12-21T19:11:47.388Z"
      },
      {
        "duration": 1269,
        "start_time": "2022-12-21T19:11:47.397Z"
      },
      {
        "duration": 29,
        "start_time": "2022-12-21T19:11:48.667Z"
      },
      {
        "duration": 124,
        "start_time": "2022-12-21T19:11:48.698Z"
      },
      {
        "duration": 38,
        "start_time": "2022-12-21T19:11:48.824Z"
      },
      {
        "duration": 508,
        "start_time": "2022-12-21T19:11:48.876Z"
      },
      {
        "duration": 91,
        "start_time": "2022-12-21T19:11:49.386Z"
      },
      {
        "duration": 32,
        "start_time": "2022-12-21T19:11:49.480Z"
      },
      {
        "duration": 16,
        "start_time": "2022-12-21T19:11:49.514Z"
      },
      {
        "duration": 179,
        "start_time": "2022-12-21T19:11:49.532Z"
      },
      {
        "duration": 523,
        "start_time": "2022-12-21T19:11:49.713Z"
      },
      {
        "duration": 3134,
        "start_time": "2022-12-21T19:59:54.080Z"
      },
      {
        "duration": 1210,
        "start_time": "2022-12-21T19:59:57.216Z"
      },
      {
        "duration": 14,
        "start_time": "2022-12-21T19:59:58.428Z"
      },
      {
        "duration": 178,
        "start_time": "2022-12-21T19:59:58.444Z"
      },
      {
        "duration": 37,
        "start_time": "2022-12-21T19:59:58.626Z"
      },
      {
        "duration": 176,
        "start_time": "2022-12-21T19:59:58.665Z"
      },
      {
        "duration": 5,
        "start_time": "2022-12-21T19:59:58.926Z"
      },
      {
        "duration": 20,
        "start_time": "2022-12-21T19:59:58.932Z"
      },
      {
        "duration": 12,
        "start_time": "2022-12-21T19:59:58.953Z"
      },
      {
        "duration": 139,
        "start_time": "2022-12-21T19:59:58.966Z"
      },
      {
        "duration": 355,
        "start_time": "2022-12-21T19:59:59.106Z"
      },
      {
        "duration": 63,
        "start_time": "2022-12-21T20:04:07.427Z"
      },
      {
        "duration": 347,
        "start_time": "2022-12-21T20:04:08.117Z"
      },
      {
        "duration": 58,
        "start_time": "2022-12-21T20:04:15.128Z"
      },
      {
        "duration": 356,
        "start_time": "2022-12-21T20:04:15.903Z"
      },
      {
        "duration": 400,
        "start_time": "2022-12-21T20:04:20.247Z"
      },
      {
        "duration": 437,
        "start_time": "2022-12-21T20:04:20.803Z"
      },
      {
        "duration": 436,
        "start_time": "2022-12-21T20:04:23.697Z"
      },
      {
        "duration": 428,
        "start_time": "2022-12-21T20:04:24.135Z"
      },
      {
        "duration": 479,
        "start_time": "2022-12-21T20:04:31.027Z"
      },
      {
        "duration": 451,
        "start_time": "2022-12-21T20:04:31.508Z"
      },
      {
        "duration": 119,
        "start_time": "2022-12-21T20:04:38.097Z"
      },
      {
        "duration": 460,
        "start_time": "2022-12-21T20:04:39.968Z"
      },
      {
        "duration": 1597,
        "start_time": "2022-12-22T07:46:34.323Z"
      },
      {
        "duration": 1265,
        "start_time": "2022-12-22T07:46:35.922Z"
      },
      {
        "duration": 25,
        "start_time": "2022-12-22T07:46:37.188Z"
      },
      {
        "duration": 230,
        "start_time": "2022-12-22T07:46:37.216Z"
      },
      {
        "duration": 63,
        "start_time": "2022-12-22T07:46:37.448Z"
      },
      {
        "duration": 200,
        "start_time": "2022-12-22T07:46:37.513Z"
      },
      {
        "duration": 94,
        "start_time": "2022-12-22T07:46:37.715Z"
      },
      {
        "duration": 21,
        "start_time": "2022-12-22T07:46:37.811Z"
      },
      {
        "duration": 15,
        "start_time": "2022-12-22T07:46:37.833Z"
      },
      {
        "duration": 149,
        "start_time": "2022-12-22T07:46:37.850Z"
      },
      {
        "duration": 439,
        "start_time": "2022-12-22T07:46:38.004Z"
      },
      {
        "duration": 4,
        "start_time": "2022-12-22T07:47:20.057Z"
      },
      {
        "duration": 13,
        "start_time": "2022-12-22T07:47:28.792Z"
      },
      {
        "duration": 5,
        "start_time": "2022-12-22T07:47:45.205Z"
      },
      {
        "duration": 14,
        "start_time": "2022-12-22T07:47:48.147Z"
      },
      {
        "duration": 5,
        "start_time": "2022-12-22T07:48:11.691Z"
      },
      {
        "duration": 14,
        "start_time": "2022-12-22T07:48:14.335Z"
      },
      {
        "duration": 3,
        "start_time": "2022-12-22T07:48:26.891Z"
      },
      {
        "duration": 13,
        "start_time": "2022-12-22T07:48:29.983Z"
      },
      {
        "duration": 13,
        "start_time": "2022-12-22T07:48:42.885Z"
      },
      {
        "duration": 152,
        "start_time": "2022-12-22T07:48:52.937Z"
      },
      {
        "duration": 4,
        "start_time": "2022-12-22T07:49:05.431Z"
      },
      {
        "duration": 1342,
        "start_time": "2022-12-22T07:49:05.438Z"
      },
      {
        "duration": 23,
        "start_time": "2022-12-22T07:49:06.782Z"
      },
      {
        "duration": 132,
        "start_time": "2022-12-22T07:49:06.810Z"
      },
      {
        "duration": 41,
        "start_time": "2022-12-22T07:49:06.946Z"
      },
      {
        "duration": 345,
        "start_time": "2022-12-22T07:49:06.989Z"
      },
      {
        "duration": 8,
        "start_time": "2022-12-22T07:49:07.411Z"
      },
      {
        "duration": 54,
        "start_time": "2022-12-22T07:49:07.422Z"
      },
      {
        "duration": 31,
        "start_time": "2022-12-22T07:49:07.478Z"
      },
      {
        "duration": 316,
        "start_time": "2022-12-22T07:49:07.512Z"
      },
      {
        "duration": 426,
        "start_time": "2022-12-22T07:49:07.831Z"
      },
      {
        "duration": 165,
        "start_time": "2022-12-22T07:52:55.522Z"
      },
      {
        "duration": 153,
        "start_time": "2022-12-22T07:53:06.913Z"
      },
      {
        "duration": 5,
        "start_time": "2022-12-22T07:55:06.770Z"
      },
      {
        "duration": 1276,
        "start_time": "2022-12-22T07:55:06.777Z"
      },
      {
        "duration": 14,
        "start_time": "2022-12-22T07:55:08.054Z"
      },
      {
        "duration": 136,
        "start_time": "2022-12-22T07:55:08.070Z"
      },
      {
        "duration": 42,
        "start_time": "2022-12-22T07:55:08.208Z"
      },
      {
        "duration": 166,
        "start_time": "2022-12-22T07:55:08.253Z"
      },
      {
        "duration": 4,
        "start_time": "2022-12-22T07:55:08.506Z"
      },
      {
        "duration": 22,
        "start_time": "2022-12-22T07:55:08.511Z"
      },
      {
        "duration": 12,
        "start_time": "2022-12-22T07:55:08.535Z"
      },
      {
        "duration": 184,
        "start_time": "2022-12-22T07:55:08.549Z"
      },
      {
        "duration": 389,
        "start_time": "2022-12-22T07:55:08.735Z"
      },
      {
        "duration": 1409,
        "start_time": "2022-12-22T07:56:54.530Z"
      },
      {
        "duration": 1143,
        "start_time": "2022-12-22T07:57:35.367Z"
      },
      {
        "duration": 4,
        "start_time": "2022-12-22T07:57:44.521Z"
      },
      {
        "duration": 1241,
        "start_time": "2022-12-22T07:57:44.526Z"
      },
      {
        "duration": 14,
        "start_time": "2022-12-22T07:57:45.769Z"
      },
      {
        "duration": 112,
        "start_time": "2022-12-22T07:57:45.784Z"
      },
      {
        "duration": 36,
        "start_time": "2022-12-22T07:57:45.904Z"
      },
      {
        "duration": 165,
        "start_time": "2022-12-22T07:57:45.942Z"
      },
      {
        "duration": 99,
        "start_time": "2022-12-22T07:57:46.109Z"
      },
      {
        "duration": 24,
        "start_time": "2022-12-22T07:57:46.210Z"
      },
      {
        "duration": 11,
        "start_time": "2022-12-22T07:57:46.236Z"
      },
      {
        "duration": 175,
        "start_time": "2022-12-22T07:57:46.249Z"
      },
      {
        "duration": 393,
        "start_time": "2022-12-22T07:57:46.425Z"
      },
      {
        "duration": 30,
        "start_time": "2022-12-22T08:03:49.314Z"
      },
      {
        "duration": 149,
        "start_time": "2022-12-22T08:04:43.297Z"
      },
      {
        "duration": 4,
        "start_time": "2022-12-22T08:05:07.037Z"
      },
      {
        "duration": 1184,
        "start_time": "2022-12-22T08:05:07.044Z"
      },
      {
        "duration": 19,
        "start_time": "2022-12-22T08:05:08.230Z"
      },
      {
        "duration": 122,
        "start_time": "2022-12-22T08:05:08.251Z"
      },
      {
        "duration": 46,
        "start_time": "2022-12-22T08:05:08.376Z"
      },
      {
        "duration": 181,
        "start_time": "2022-12-22T08:05:08.424Z"
      },
      {
        "duration": 8,
        "start_time": "2022-12-22T08:05:08.607Z"
      },
      {
        "duration": 36,
        "start_time": "2022-12-22T08:05:08.617Z"
      },
      {
        "duration": 28,
        "start_time": "2022-12-22T08:05:08.655Z"
      },
      {
        "duration": 162,
        "start_time": "2022-12-22T08:05:08.685Z"
      },
      {
        "duration": 484,
        "start_time": "2022-12-22T08:05:08.849Z"
      },
      {
        "duration": 4,
        "start_time": "2022-12-22T08:05:28.412Z"
      },
      {
        "duration": 1115,
        "start_time": "2022-12-22T08:05:28.419Z"
      },
      {
        "duration": 14,
        "start_time": "2022-12-22T08:05:29.536Z"
      },
      {
        "duration": 122,
        "start_time": "2022-12-22T08:05:29.552Z"
      },
      {
        "duration": 45,
        "start_time": "2022-12-22T08:05:29.676Z"
      },
      {
        "duration": 92,
        "start_time": "2022-12-22T08:05:29.723Z"
      },
      {
        "duration": 90,
        "start_time": "2022-12-22T08:05:29.817Z"
      },
      {
        "duration": 19,
        "start_time": "2022-12-22T08:05:29.909Z"
      },
      {
        "duration": 12,
        "start_time": "2022-12-22T08:05:29.930Z"
      },
      {
        "duration": 187,
        "start_time": "2022-12-22T08:05:29.943Z"
      },
      {
        "duration": 396,
        "start_time": "2022-12-22T08:05:30.132Z"
      },
      {
        "duration": 86145,
        "start_time": "2022-12-22T08:08:40.838Z"
      },
      {
        "duration": 5,
        "start_time": "2022-12-22T08:10:35.414Z"
      },
      {
        "duration": 1342,
        "start_time": "2022-12-22T08:10:35.422Z"
      },
      {
        "duration": 16,
        "start_time": "2022-12-22T08:10:36.766Z"
      },
      {
        "duration": 121,
        "start_time": "2022-12-22T08:10:36.785Z"
      },
      {
        "duration": 39,
        "start_time": "2022-12-22T08:10:36.908Z"
      },
      {
        "duration": 263,
        "start_time": "2022-12-22T08:10:36.949Z"
      },
      {
        "duration": 90,
        "start_time": "2022-12-22T08:10:37.218Z"
      },
      {
        "duration": 40,
        "start_time": "2022-12-22T08:10:37.310Z"
      },
      {
        "duration": 22,
        "start_time": "2022-12-22T08:10:37.353Z"
      },
      {
        "duration": 87657,
        "start_time": "2022-12-22T08:10:37.377Z"
      },
      {
        "duration": 161,
        "start_time": "2022-12-22T08:12:05.037Z"
      },
      {
        "duration": 462,
        "start_time": "2022-12-22T08:12:05.199Z"
      },
      {
        "duration": 86159,
        "start_time": "2022-12-22T08:14:27.812Z"
      },
      {
        "duration": 141,
        "start_time": "2022-12-22T08:16:13.407Z"
      },
      {
        "duration": 396,
        "start_time": "2022-12-22T08:16:20.840Z"
      },
      {
        "duration": 4,
        "start_time": "2022-12-22T08:16:38.826Z"
      },
      {
        "duration": 1215,
        "start_time": "2022-12-22T08:16:38.832Z"
      },
      {
        "duration": 15,
        "start_time": "2022-12-22T08:16:40.049Z"
      },
      {
        "duration": 112,
        "start_time": "2022-12-22T08:16:40.066Z"
      },
      {
        "duration": 50,
        "start_time": "2022-12-22T08:16:40.179Z"
      },
      {
        "duration": 94,
        "start_time": "2022-12-22T08:16:40.232Z"
      },
      {
        "duration": 13,
        "start_time": "2022-12-22T08:16:40.407Z"
      },
      {
        "duration": 24,
        "start_time": "2022-12-22T08:16:40.506Z"
      },
      {
        "duration": 15,
        "start_time": "2022-12-22T08:16:40.533Z"
      },
      {
        "duration": 1999,
        "start_time": "2022-12-22T08:16:40.550Z"
      },
      {
        "duration": 0,
        "start_time": "2022-12-22T08:16:42.551Z"
      },
      {
        "duration": 0,
        "start_time": "2022-12-22T08:16:42.552Z"
      },
      {
        "duration": 3,
        "start_time": "2022-12-22T08:17:05.143Z"
      },
      {
        "duration": 1132,
        "start_time": "2022-12-22T08:17:05.148Z"
      },
      {
        "duration": 23,
        "start_time": "2022-12-22T08:17:06.282Z"
      },
      {
        "duration": 121,
        "start_time": "2022-12-22T08:17:06.307Z"
      },
      {
        "duration": 39,
        "start_time": "2022-12-22T08:17:06.430Z"
      },
      {
        "duration": 139,
        "start_time": "2022-12-22T08:17:06.471Z"
      },
      {
        "duration": 93,
        "start_time": "2022-12-22T08:17:06.612Z"
      },
      {
        "duration": 25,
        "start_time": "2022-12-22T08:17:06.707Z"
      },
      {
        "duration": 13,
        "start_time": "2022-12-22T08:17:06.735Z"
      },
      {
        "duration": 148,
        "start_time": "2022-12-22T08:17:06.749Z"
      },
      {
        "duration": 422,
        "start_time": "2022-12-22T08:17:06.905Z"
      },
      {
        "duration": 47,
        "start_time": "2022-12-22T13:24:09.331Z"
      },
      {
        "duration": 1486,
        "start_time": "2022-12-22T13:24:21.426Z"
      },
      {
        "duration": 1228,
        "start_time": "2022-12-22T13:24:22.914Z"
      },
      {
        "duration": 14,
        "start_time": "2022-12-22T13:24:24.143Z"
      },
      {
        "duration": 177,
        "start_time": "2022-12-22T13:24:24.159Z"
      },
      {
        "duration": 36,
        "start_time": "2022-12-22T13:24:24.337Z"
      },
      {
        "duration": 153,
        "start_time": "2022-12-22T13:24:24.375Z"
      },
      {
        "duration": 110,
        "start_time": "2022-12-22T13:24:24.530Z"
      },
      {
        "duration": 45,
        "start_time": "2022-12-22T13:24:24.641Z"
      },
      {
        "duration": 60,
        "start_time": "2022-12-22T13:24:24.688Z"
      },
      {
        "duration": 125,
        "start_time": "2022-12-22T13:24:24.750Z"
      },
      {
        "duration": 379,
        "start_time": "2022-12-22T13:24:24.876Z"
      },
      {
        "duration": 4,
        "start_time": "2022-12-22T13:25:21.440Z"
      },
      {
        "duration": 1104,
        "start_time": "2022-12-22T13:25:21.445Z"
      },
      {
        "duration": 13,
        "start_time": "2022-12-22T13:25:22.551Z"
      },
      {
        "duration": 112,
        "start_time": "2022-12-22T13:25:22.565Z"
      },
      {
        "duration": 33,
        "start_time": "2022-12-22T13:25:22.679Z"
      },
      {
        "duration": 305,
        "start_time": "2022-12-22T13:25:22.725Z"
      },
      {
        "duration": 5,
        "start_time": "2022-12-22T13:25:23.031Z"
      },
      {
        "duration": 32,
        "start_time": "2022-12-22T13:25:23.038Z"
      },
      {
        "duration": 14,
        "start_time": "2022-12-22T13:25:23.072Z"
      },
      {
        "duration": 127,
        "start_time": "2022-12-22T13:25:23.087Z"
      },
      {
        "duration": 341,
        "start_time": "2022-12-22T13:25:23.216Z"
      },
      {
        "duration": 5,
        "start_time": "2022-12-22T13:26:02.359Z"
      },
      {
        "duration": 1176,
        "start_time": "2022-12-22T13:26:02.366Z"
      },
      {
        "duration": 14,
        "start_time": "2022-12-22T13:26:03.544Z"
      },
      {
        "duration": 114,
        "start_time": "2022-12-22T13:26:03.560Z"
      },
      {
        "duration": 36,
        "start_time": "2022-12-22T13:26:03.676Z"
      },
      {
        "duration": 314,
        "start_time": "2022-12-22T13:26:03.713Z"
      },
      {
        "duration": 5,
        "start_time": "2022-12-22T13:26:04.029Z"
      },
      {
        "duration": 29,
        "start_time": "2022-12-22T13:26:04.036Z"
      },
      {
        "duration": 15,
        "start_time": "2022-12-22T13:26:04.066Z"
      },
      {
        "duration": 42913,
        "start_time": "2022-12-22T13:26:04.084Z"
      },
      {
        "duration": 132,
        "start_time": "2022-12-22T13:26:46.999Z"
      },
      {
        "duration": 417,
        "start_time": "2022-12-22T13:26:47.133Z"
      },
      {
        "duration": 5,
        "start_time": "2022-12-22T13:27:42.876Z"
      },
      {
        "duration": 1155,
        "start_time": "2022-12-22T13:27:42.883Z"
      },
      {
        "duration": 0,
        "start_time": "2022-12-22T13:27:44.040Z"
      },
      {
        "duration": 0,
        "start_time": "2022-12-22T13:27:44.041Z"
      },
      {
        "duration": 0,
        "start_time": "2022-12-22T13:27:44.042Z"
      },
      {
        "duration": 0,
        "start_time": "2022-12-22T13:27:44.043Z"
      },
      {
        "duration": 0,
        "start_time": "2022-12-22T13:27:44.044Z"
      },
      {
        "duration": 0,
        "start_time": "2022-12-22T13:27:44.045Z"
      },
      {
        "duration": 0,
        "start_time": "2022-12-22T13:27:44.046Z"
      },
      {
        "duration": 0,
        "start_time": "2022-12-22T13:27:44.047Z"
      },
      {
        "duration": 0,
        "start_time": "2022-12-22T13:27:44.048Z"
      },
      {
        "duration": 0,
        "start_time": "2022-12-22T13:27:44.049Z"
      },
      {
        "duration": 1109,
        "start_time": "2022-12-22T13:29:51.792Z"
      },
      {
        "duration": 4,
        "start_time": "2022-12-22T13:30:00.694Z"
      },
      {
        "duration": 1282,
        "start_time": "2022-12-22T13:30:00.700Z"
      },
      {
        "duration": 15,
        "start_time": "2022-12-22T13:30:01.983Z"
      },
      {
        "duration": 113,
        "start_time": "2022-12-22T13:30:02.000Z"
      },
      {
        "duration": 41,
        "start_time": "2022-12-22T13:30:02.114Z"
      },
      {
        "duration": 75,
        "start_time": "2022-12-22T13:30:02.157Z"
      },
      {
        "duration": 95,
        "start_time": "2022-12-22T13:30:02.234Z"
      },
      {
        "duration": 20,
        "start_time": "2022-12-22T13:30:02.331Z"
      },
      {
        "duration": 12,
        "start_time": "2022-12-22T13:30:02.353Z"
      },
      {
        "duration": 42010,
        "start_time": "2022-12-22T13:30:02.366Z"
      },
      {
        "duration": 120,
        "start_time": "2022-12-22T13:30:44.378Z"
      },
      {
        "duration": 445,
        "start_time": "2022-12-22T13:30:44.499Z"
      },
      {
        "duration": 101,
        "start_time": "2022-12-22T13:33:06.876Z"
      },
      {
        "duration": 73,
        "start_time": "2022-12-22T13:33:16.073Z"
      },
      {
        "duration": 6386,
        "start_time": "2022-12-22T14:33:22.479Z"
      },
      {
        "duration": 1102,
        "start_time": "2022-12-22T14:33:28.867Z"
      },
      {
        "duration": 15,
        "start_time": "2022-12-22T14:33:29.976Z"
      },
      {
        "duration": 178,
        "start_time": "2022-12-22T14:33:29.992Z"
      },
      {
        "duration": 36,
        "start_time": "2022-12-22T14:33:30.177Z"
      },
      {
        "duration": 165,
        "start_time": "2022-12-22T14:33:30.214Z"
      },
      {
        "duration": 94,
        "start_time": "2022-12-22T14:33:30.383Z"
      },
      {
        "duration": 59,
        "start_time": "2022-12-22T14:33:30.479Z"
      },
      {
        "duration": 50,
        "start_time": "2022-12-22T14:33:30.540Z"
      },
      {
        "duration": 26094,
        "start_time": "2022-12-22T14:33:30.591Z"
      },
      {
        "duration": 0,
        "start_time": "2022-12-22T14:33:56.687Z"
      },
      {
        "duration": 0,
        "start_time": "2022-12-22T14:33:56.688Z"
      },
      {
        "duration": 0,
        "start_time": "2022-12-22T14:33:56.689Z"
      },
      {
        "duration": 14,
        "start_time": "2022-12-22T14:33:58.032Z"
      },
      {
        "duration": 110,
        "start_time": "2022-12-22T14:34:01.963Z"
      },
      {
        "duration": 35,
        "start_time": "2022-12-22T14:34:02.124Z"
      },
      {
        "duration": 93,
        "start_time": "2022-12-22T14:34:02.293Z"
      },
      {
        "duration": 12,
        "start_time": "2022-12-22T14:34:07.458Z"
      },
      {
        "duration": 12,
        "start_time": "2022-12-22T14:34:09.782Z"
      },
      {
        "duration": 4,
        "start_time": "2022-12-22T14:34:20.102Z"
      },
      {
        "duration": 12,
        "start_time": "2022-12-22T14:34:23.572Z"
      },
      {
        "duration": 12,
        "start_time": "2022-12-22T14:34:35.472Z"
      },
      {
        "duration": 46,
        "start_time": "2022-12-22T14:35:29.978Z"
      },
      {
        "duration": 7,
        "start_time": "2022-12-22T14:35:32.608Z"
      },
      {
        "duration": 2928,
        "start_time": "2022-12-22T14:35:35.478Z"
      },
      {
        "duration": 1142,
        "start_time": "2022-12-22T14:35:38.408Z"
      },
      {
        "duration": 41,
        "start_time": "2022-12-22T14:35:39.552Z"
      },
      {
        "duration": 17,
        "start_time": "2022-12-22T14:35:39.595Z"
      },
      {
        "duration": 3,
        "start_time": "2022-12-22T14:35:54.100Z"
      },
      {
        "duration": 96,
        "start_time": "2022-12-22T14:36:01.767Z"
      },
      {
        "duration": 89,
        "start_time": "2022-12-22T14:36:05.228Z"
      },
      {
        "duration": 39,
        "start_time": "2022-12-22T14:36:12.539Z"
      },
      {
        "duration": 119,
        "start_time": "2022-12-22T14:36:16.306Z"
      },
      {
        "duration": 128,
        "start_time": "2022-12-22T14:36:22.396Z"
      },
      {
        "duration": 136,
        "start_time": "2022-12-22T14:36:27.277Z"
      },
      {
        "duration": 574,
        "start_time": "2022-12-22T14:36:32.799Z"
      },
      {
        "duration": 240,
        "start_time": "2022-12-22T14:36:35.208Z"
      },
      {
        "duration": 774,
        "start_time": "2022-12-22T14:36:43.086Z"
      },
      {
        "duration": 253,
        "start_time": "2022-12-22T14:36:45.039Z"
      },
      {
        "duration": 11,
        "start_time": "2022-12-22T14:37:34.068Z"
      },
      {
        "duration": 5592,
        "start_time": "2022-12-22T14:37:37.478Z"
      },
      {
        "duration": 15,
        "start_time": "2022-12-22T14:37:59.056Z"
      },
      {
        "duration": 16,
        "start_time": "2022-12-22T14:38:04.298Z"
      },
      {
        "duration": 1175,
        "start_time": "2022-12-22T14:38:14.269Z"
      },
      {
        "duration": 37,
        "start_time": "2022-12-22T14:38:15.446Z"
      },
      {
        "duration": 97,
        "start_time": "2022-12-22T14:38:17.148Z"
      },
      {
        "duration": 42,
        "start_time": "2022-12-22T14:38:17.307Z"
      },
      {
        "duration": 5992,
        "start_time": "2022-12-22T14:38:21.218Z"
      },
      {
        "duration": 1038,
        "start_time": "2022-12-22T14:38:31.249Z"
      },
      {
        "duration": 228,
        "start_time": "2022-12-22T14:38:35.328Z"
      },
      {
        "duration": 319,
        "start_time": "2022-12-22T14:38:38.765Z"
      },
      {
        "duration": 238,
        "start_time": "2022-12-22T14:38:42.788Z"
      },
      {
        "duration": 14,
        "start_time": "2022-12-22T14:38:52.176Z"
      },
      {
        "duration": 1137,
        "start_time": "2022-12-22T14:38:58.649Z"
      },
      {
        "duration": 1582,
        "start_time": "2022-12-22T14:51:07.993Z"
      },
      {
        "duration": 1238,
        "start_time": "2022-12-22T14:51:09.577Z"
      },
      {
        "duration": 30,
        "start_time": "2022-12-22T14:51:10.817Z"
      },
      {
        "duration": 193,
        "start_time": "2022-12-22T14:51:10.849Z"
      },
      {
        "duration": 39,
        "start_time": "2022-12-22T14:51:11.044Z"
      },
      {
        "duration": 126,
        "start_time": "2022-12-22T14:51:11.097Z"
      },
      {
        "duration": 0,
        "start_time": "2022-12-22T14:51:11.225Z"
      },
      {
        "duration": 0,
        "start_time": "2022-12-22T14:51:11.226Z"
      },
      {
        "duration": 0,
        "start_time": "2022-12-22T14:51:11.228Z"
      },
      {
        "duration": 0,
        "start_time": "2022-12-22T14:51:11.229Z"
      },
      {
        "duration": 0,
        "start_time": "2022-12-22T14:51:11.231Z"
      },
      {
        "duration": 0,
        "start_time": "2022-12-22T14:51:11.232Z"
      },
      {
        "duration": 7,
        "start_time": "2022-12-22T14:57:12.895Z"
      },
      {
        "duration": 1240,
        "start_time": "2022-12-22T14:57:12.903Z"
      },
      {
        "duration": 13,
        "start_time": "2022-12-22T14:57:14.145Z"
      },
      {
        "duration": 125,
        "start_time": "2022-12-22T14:57:14.160Z"
      },
      {
        "duration": 51,
        "start_time": "2022-12-22T14:57:14.287Z"
      },
      {
        "duration": 10,
        "start_time": "2022-12-22T14:57:14.339Z"
      },
      {
        "duration": 0,
        "start_time": "2022-12-22T14:57:14.350Z"
      },
      {
        "duration": 0,
        "start_time": "2022-12-22T14:57:14.352Z"
      },
      {
        "duration": 0,
        "start_time": "2022-12-22T14:57:14.353Z"
      },
      {
        "duration": 0,
        "start_time": "2022-12-22T14:57:14.355Z"
      },
      {
        "duration": 0,
        "start_time": "2022-12-22T14:57:14.356Z"
      },
      {
        "duration": 0,
        "start_time": "2022-12-22T14:57:14.357Z"
      },
      {
        "duration": 120,
        "start_time": "2022-12-22T14:57:56.281Z"
      },
      {
        "duration": 5,
        "start_time": "2022-12-22T14:57:59.880Z"
      },
      {
        "duration": 1283,
        "start_time": "2022-12-22T14:57:59.887Z"
      },
      {
        "duration": 12,
        "start_time": "2022-12-22T14:58:01.172Z"
      },
      {
        "duration": 136,
        "start_time": "2022-12-22T14:58:01.186Z"
      },
      {
        "duration": 36,
        "start_time": "2022-12-22T14:58:01.324Z"
      },
      {
        "duration": 59,
        "start_time": "2022-12-22T14:58:01.361Z"
      },
      {
        "duration": 113,
        "start_time": "2022-12-22T14:58:01.498Z"
      },
      {
        "duration": 87,
        "start_time": "2022-12-22T14:58:01.613Z"
      },
      {
        "duration": 98,
        "start_time": "2022-12-22T14:58:01.702Z"
      },
      {
        "duration": 47908,
        "start_time": "2022-12-22T14:58:01.803Z"
      },
      {
        "duration": 319,
        "start_time": "2022-12-22T14:58:49.714Z"
      },
      {
        "duration": 413,
        "start_time": "2022-12-22T14:58:50.035Z"
      },
      {
        "duration": 256,
        "start_time": "2022-12-22T14:59:38.320Z"
      },
      {
        "duration": 277,
        "start_time": "2022-12-22T15:00:08.778Z"
      },
      {
        "duration": 4,
        "start_time": "2022-12-22T15:00:16.466Z"
      },
      {
        "duration": 1195,
        "start_time": "2022-12-22T15:00:16.472Z"
      },
      {
        "duration": 13,
        "start_time": "2022-12-22T15:00:17.669Z"
      },
      {
        "duration": 247,
        "start_time": "2022-12-22T15:00:17.684Z"
      },
      {
        "duration": 41,
        "start_time": "2022-12-22T15:00:17.933Z"
      },
      {
        "duration": 226,
        "start_time": "2022-12-22T15:00:17.976Z"
      },
      {
        "duration": 12,
        "start_time": "2022-12-22T15:00:18.204Z"
      },
      {
        "duration": 201,
        "start_time": "2022-12-22T15:00:18.222Z"
      },
      {
        "duration": 48,
        "start_time": "2022-12-22T15:00:18.498Z"
      },
      {
        "duration": 50814,
        "start_time": "2022-12-22T15:00:18.547Z"
      },
      {
        "duration": 307,
        "start_time": "2022-12-22T15:01:09.362Z"
      },
      {
        "duration": 380,
        "start_time": "2022-12-22T15:01:09.671Z"
      },
      {
        "duration": 23,
        "start_time": "2022-12-22T15:03:44.296Z"
      },
      {
        "duration": 6128,
        "start_time": "2022-12-22T16:12:06.153Z"
      },
      {
        "duration": 1149,
        "start_time": "2022-12-22T16:12:12.283Z"
      },
      {
        "duration": 103,
        "start_time": "2022-12-22T16:12:20.245Z"
      },
      {
        "duration": 48,
        "start_time": "2022-12-22T16:12:24.721Z"
      },
      {
        "duration": 46,
        "start_time": "2022-12-22T17:45:32.755Z"
      },
      {
        "duration": 1634,
        "start_time": "2022-12-22T17:45:38.302Z"
      },
      {
        "duration": 1267,
        "start_time": "2022-12-22T17:45:39.938Z"
      },
      {
        "duration": 37,
        "start_time": "2022-12-22T17:45:41.206Z"
      },
      {
        "duration": 204,
        "start_time": "2022-12-22T17:45:41.244Z"
      },
      {
        "duration": 47,
        "start_time": "2022-12-22T17:45:41.450Z"
      },
      {
        "duration": 343,
        "start_time": "2022-12-22T17:45:41.499Z"
      },
      {
        "duration": 93,
        "start_time": "2022-12-22T17:45:41.844Z"
      },
      {
        "duration": 105,
        "start_time": "2022-12-22T17:45:41.939Z"
      },
      {
        "duration": 109,
        "start_time": "2022-12-22T17:45:42.046Z"
      },
      {
        "duration": 43626,
        "start_time": "2022-12-22T17:45:42.158Z"
      },
      {
        "duration": 321,
        "start_time": "2022-12-22T17:46:25.786Z"
      },
      {
        "duration": 208,
        "start_time": "2022-12-22T17:46:26.109Z"
      },
      {
        "duration": 338,
        "start_time": "2022-12-22T17:47:03.763Z"
      },
      {
        "duration": 139,
        "start_time": "2022-12-22T17:47:14.289Z"
      },
      {
        "duration": 170595,
        "start_time": "2022-12-22T17:48:00.698Z"
      },
      {
        "duration": 1,
        "start_time": "2022-12-22T17:50:51.294Z"
      },
      {
        "duration": 0,
        "start_time": "2022-12-22T17:50:51.296Z"
      },
      {
        "duration": 446,
        "start_time": "2022-12-22T17:50:54.165Z"
      },
      {
        "duration": 189,
        "start_time": "2022-12-22T17:51:02.325Z"
      },
      {
        "duration": 590525,
        "start_time": "2022-12-22T17:51:46.701Z"
      },
      {
        "duration": 415,
        "start_time": "2022-12-22T18:02:45.072Z"
      },
      {
        "duration": 144,
        "start_time": "2022-12-22T18:02:55.471Z"
      },
      {
        "duration": 485,
        "start_time": "2022-12-22T18:41:35.198Z"
      }
    ],
    "toc": {
      "base_numbering": 1,
      "nav_menu": {},
      "number_sections": true,
      "sideBar": true,
      "skip_h1_title": true,
      "title_cell": "Содержание",
      "title_sidebar": "Contents",
      "toc_cell": true,
      "toc_position": {},
      "toc_section_display": true,
      "toc_window_display": true
    },
    "kernelspec": {
      "name": "python",
      "display_name": "Python (Pyodide)",
      "language": "python"
    },
    "language_info": {
      "codemirror_mode": {
        "name": "python",
        "version": 3
      },
      "file_extension": ".py",
      "mimetype": "text/x-python",
      "name": "python",
      "nbconvert_exporter": "python",
      "pygments_lexer": "ipython3",
      "version": "3.8"
    }
  },
  "nbformat_minor": 4,
  "nbformat": 4,
  "cells": [
    {
      "cell_type": "markdown",
      "source": "\n",
      "metadata": {}
    },
    {
      "cell_type": "markdown",
      "source": "<h1>Содержание<span class=\"tocSkip\"></span></h1>\n<div class=\"toc\"><ul class=\"toc-item\"><li><span><a href=\"#Подготовка-данных\" data-toc-modified-id=\"Подготовка-данных-1\"><span class=\"toc-item-num\">1&nbsp;&nbsp;</span>Подготовка данных</a></span></li><li><span><a href=\"#Исследование-задачи\" data-toc-modified-id=\"Исследование-задачи-2\"><span class=\"toc-item-num\">2&nbsp;&nbsp;</span>Исследование задачи</a></span></li><li><span><a href=\"#Борьба-с-дисбалансом\" data-toc-modified-id=\"Борьба-с-дисбалансом-3\"><span class=\"toc-item-num\">3&nbsp;&nbsp;</span>Борьба с дисбалансом</a></span></li><li><span><a href=\"#Тестирование-модели\" data-toc-modified-id=\"Тестирование-модели-4\"><span class=\"toc-item-num\">4&nbsp;&nbsp;</span>Тестирование модели</a></span></li><li><span><a href=\"#Чек-лист-готовности-проекта\" data-toc-modified-id=\"Чек-лист-готовности-проекта-5\"><span class=\"toc-item-num\">5&nbsp;&nbsp;</span>Чек-лист готовности проекта</a></span></li></ul></div>",
      "metadata": {
        "toc": true
      }
    },
    {
      "cell_type": "markdown",
      "source": "# Отток клиентов",
      "metadata": {}
    },
    {
      "cell_type": "markdown",
      "source": "Из «Бета-Банка» стали уходить клиенты. Каждый месяц. Немного, но заметно. Банковские маркетологи посчитали: сохранять текущих клиентов дешевле, чем привлекать новых.\n\nНужно спрогнозировать, уйдёт клиент из банка в ближайшее время или нет. Вам предоставлены исторические данные о поведении клиентов и расторжении договоров с банком. \n\nПостройте модель с предельно большим значением *F1*-меры. Чтобы сдать проект успешно, нужно довести метрику до 0.59. Проверьте *F1*-меру на тестовой выборке самостоятельно.\n\nДополнительно измеряйте *AUC-ROC*, сравнивайте её значение с *F1*-мерой.\n\nИсточник данных: [https://www.kaggle.com/barelydedicated/bank-customer-churn-modeling](https://www.kaggle.com/barelydedicated/bank-customer-churn-modeling)",
      "metadata": {}
    },
    {
      "cell_type": "markdown",
      "source": "## Подготовка данных",
      "metadata": {}
    },
    {
      "cell_type": "code",
      "source": "import pandas as pd\nimport numpy as np\nimport seaborn as sb\nimport matplotlib.pyplot as plt\n\nfrom sklearn.model_selection import train_test_split\nfrom sklearn.preprocessing import StandardScaler\nfrom sklearn.linear_model import LogisticRegression\nfrom sklearn.tree import DecisionTreeClassifier\nfrom sklearn.ensemble import RandomForestClassifier\n\nfrom sklearn.metrics import roc_auc_score\nfrom sklearn.metrics import roc_curve\nfrom sklearn.metrics import precision_score\nfrom sklearn.metrics import recall_score\nfrom sklearn.metrics import f1_score\nfrom sklearn.utils import shuffle",
      "metadata": {},
      "execution_count": 2,
      "outputs": []
    },
    {
      "cell_type": "code",
      "source": "df = pd.read_csv('/datasets/Churn.csv')\n\ndf.info()\n\ndf = df.dropna(subset=['Tenure'])\ndf = df.drop(['RowNumber', 'CustomerId', 'Surname'], axis=1)\n\ndisplay(df.corr())\n\ndf.hist(figsize=(15,20))\nplt.show()\n\ndf = pd.get_dummies(df, drop_first=True)\n\ntarget = df['Exited']\nfeatures = df.drop('Exited', axis=1)\n\nfeatures_train, features_intermediate, target_train, target_intermediate = train_test_split(\n    features, target, test_size=0.4, random_state=31337, stratify=target)\n\nfeatures_test, features_valid, target_test, target_valid = train_test_split(\n    features_intermediate, target_intermediate, test_size=0.5, random_state=31337, stratify=target_intermediate)",
      "metadata": {},
      "execution_count": 3,
      "outputs": [
        {
          "name": "stdout",
          "output_type": "stream",
          "text": "<class 'pandas.core.frame.DataFrame'>\n\nRangeIndex: 10000 entries, 0 to 9999\n\nData columns (total 14 columns):\n\n #   Column           Non-Null Count  Dtype  \n\n---  ------           --------------  -----  \n\n 0   RowNumber        10000 non-null  int64  \n\n 1   CustomerId       10000 non-null  int64  \n\n 2   Surname          10000 non-null  object \n\n 3   CreditScore      10000 non-null  int64  \n\n 4   Geography        10000 non-null  object \n\n 5   Gender           10000 non-null  object \n\n 6   Age              10000 non-null  int64  \n\n 7   Tenure           9091 non-null   float64\n\n 8   Balance          10000 non-null  float64\n\n 9   NumOfProducts    10000 non-null  int64  \n\n 10  HasCrCard        10000 non-null  int64  \n\n 11  IsActiveMember   10000 non-null  int64  \n\n 12  EstimatedSalary  10000 non-null  float64\n\n 13  Exited           10000 non-null  int64  \n\ndtypes: float64(3), int64(8), object(3)\n\nmemory usage: 1.1+ MB\n"
        },
        {
          "output_type": "display_data",
          "data": {
            "text/html": [
              "<div>\n",
              "<style scoped>\n",
              "    .dataframe tbody tr th:only-of-type {\n",
              "        vertical-align: middle;\n",
              "    }\n",
              "\n",
              "    .dataframe tbody tr th {\n",
              "        vertical-align: top;\n",
              "    }\n",
              "\n",
              "    .dataframe thead th {\n",
              "        text-align: right;\n",
              "    }\n",
              "</style>\n",
              "<table border=\"1\" class=\"dataframe\">\n",
              "  <thead>\n",
              "    <tr style=\"text-align: right;\">\n",
              "      <th></th>\n",
              "      <th>CreditScore</th>\n",
              "      <th>Age</th>\n",
              "      <th>Tenure</th>\n",
              "      <th>Balance</th>\n",
              "      <th>NumOfProducts</th>\n",
              "      <th>HasCrCard</th>\n",
              "      <th>IsActiveMember</th>\n",
              "      <th>EstimatedSalary</th>\n",
              "      <th>Exited</th>\n",
              "    </tr>\n",
              "  </thead>\n",
              "  <tbody>\n",
              "    <tr>\n",
              "      <th>CreditScore</th>\n",
              "      <td>1.000000</td>\n",
              "      <td>-0.004504</td>\n",
              "      <td>-0.000062</td>\n",
              "      <td>0.002804</td>\n",
              "      <td>0.011090</td>\n",
              "      <td>-0.003937</td>\n",
              "      <td>0.030947</td>\n",
              "      <td>0.005182</td>\n",
              "      <td>-0.023950</td>\n",
              "    </tr>\n",
              "    <tr>\n",
              "      <th>Age</th>\n",
              "      <td>-0.004504</td>\n",
              "      <td>1.000000</td>\n",
              "      <td>-0.013134</td>\n",
              "      <td>0.031481</td>\n",
              "      <td>-0.031877</td>\n",
              "      <td>-0.014129</td>\n",
              "      <td>0.082269</td>\n",
              "      <td>-0.007037</td>\n",
              "      <td>0.283017</td>\n",
              "    </tr>\n",
              "    <tr>\n",
              "      <th>Tenure</th>\n",
              "      <td>-0.000062</td>\n",
              "      <td>-0.013134</td>\n",
              "      <td>1.000000</td>\n",
              "      <td>-0.007911</td>\n",
              "      <td>0.011979</td>\n",
              "      <td>0.027232</td>\n",
              "      <td>-0.032178</td>\n",
              "      <td>0.010520</td>\n",
              "      <td>-0.016761</td>\n",
              "    </tr>\n",
              "    <tr>\n",
              "      <th>Balance</th>\n",
              "      <td>0.002804</td>\n",
              "      <td>0.031481</td>\n",
              "      <td>-0.007911</td>\n",
              "      <td>1.000000</td>\n",
              "      <td>-0.301858</td>\n",
              "      <td>-0.019055</td>\n",
              "      <td>-0.003285</td>\n",
              "      <td>0.014351</td>\n",
              "      <td>0.117218</td>\n",
              "    </tr>\n",
              "    <tr>\n",
              "      <th>NumOfProducts</th>\n",
              "      <td>0.011090</td>\n",
              "      <td>-0.031877</td>\n",
              "      <td>0.011979</td>\n",
              "      <td>-0.301858</td>\n",
              "      <td>1.000000</td>\n",
              "      <td>0.005805</td>\n",
              "      <td>0.009084</td>\n",
              "      <td>0.013990</td>\n",
              "      <td>-0.050271</td>\n",
              "    </tr>\n",
              "    <tr>\n",
              "      <th>HasCrCard</th>\n",
              "      <td>-0.003937</td>\n",
              "      <td>-0.014129</td>\n",
              "      <td>0.027232</td>\n",
              "      <td>-0.019055</td>\n",
              "      <td>0.005805</td>\n",
              "      <td>1.000000</td>\n",
              "      <td>-0.008810</td>\n",
              "      <td>-0.006136</td>\n",
              "      <td>-0.005411</td>\n",
              "    </tr>\n",
              "    <tr>\n",
              "      <th>IsActiveMember</th>\n",
              "      <td>0.030947</td>\n",
              "      <td>0.082269</td>\n",
              "      <td>-0.032178</td>\n",
              "      <td>-0.003285</td>\n",
              "      <td>0.009084</td>\n",
              "      <td>-0.008810</td>\n",
              "      <td>1.000000</td>\n",
              "      <td>-0.020049</td>\n",
              "      <td>-0.155062</td>\n",
              "    </tr>\n",
              "    <tr>\n",
              "      <th>EstimatedSalary</th>\n",
              "      <td>0.005182</td>\n",
              "      <td>-0.007037</td>\n",
              "      <td>0.010520</td>\n",
              "      <td>0.014351</td>\n",
              "      <td>0.013990</td>\n",
              "      <td>-0.006136</td>\n",
              "      <td>-0.020049</td>\n",
              "      <td>1.000000</td>\n",
              "      <td>0.016029</td>\n",
              "    </tr>\n",
              "    <tr>\n",
              "      <th>Exited</th>\n",
              "      <td>-0.023950</td>\n",
              "      <td>0.283017</td>\n",
              "      <td>-0.016761</td>\n",
              "      <td>0.117218</td>\n",
              "      <td>-0.050271</td>\n",
              "      <td>-0.005411</td>\n",
              "      <td>-0.155062</td>\n",
              "      <td>0.016029</td>\n",
              "      <td>1.000000</td>\n",
              "    </tr>\n",
              "  </tbody>\n",
              "</table>\n",
              "</div>"
            ],
            "text/plain": [
              "                 CreditScore       Age    Tenure   Balance  NumOfProducts  \\\n",
              "CreditScore         1.000000 -0.004504 -0.000062  0.002804       0.011090   \n",
              "Age                -0.004504  1.000000 -0.013134  0.031481      -0.031877   \n",
              "Tenure             -0.000062 -0.013134  1.000000 -0.007911       0.011979   \n",
              "Balance             0.002804  0.031481 -0.007911  1.000000      -0.301858   \n",
              "NumOfProducts       0.011090 -0.031877  0.011979 -0.301858       1.000000   \n",
              "HasCrCard          -0.003937 -0.014129  0.027232 -0.019055       0.005805   \n",
              "IsActiveMember      0.030947  0.082269 -0.032178 -0.003285       0.009084   \n",
              "EstimatedSalary     0.005182 -0.007037  0.010520  0.014351       0.013990   \n",
              "Exited             -0.023950  0.283017 -0.016761  0.117218      -0.050271   \n",
              "\n",
              "                 HasCrCard  IsActiveMember  EstimatedSalary    Exited  \n",
              "CreditScore      -0.003937        0.030947         0.005182 -0.023950  \n",
              "Age              -0.014129        0.082269        -0.007037  0.283017  \n",
              "Tenure            0.027232       -0.032178         0.010520 -0.016761  \n",
              "Balance          -0.019055       -0.003285         0.014351  0.117218  \n",
              "NumOfProducts     0.005805        0.009084         0.013990 -0.050271  \n",
              "HasCrCard         1.000000       -0.008810        -0.006136 -0.005411  \n",
              "IsActiveMember   -0.008810        1.000000        -0.020049 -0.155062  \n",
              "EstimatedSalary  -0.006136       -0.020049         1.000000  0.016029  \n",
              "Exited           -0.005411       -0.155062         0.016029  1.000000  "
            ]
          },
          "metadata": {}
        },
        {
          "output_type": "display_data",
          "data": {
            "image/png": "[encoded data removed]",
            "text/plain": [
              "<Figure size 1080x1440 with 9 Axes>"
            ]
          },
          "metadata": {
            "needs_background": "light"
          }
        }
      ]
    },
    {
      "cell_type": "code",
      "source": "numeric = ['CreditScore', 'Age', 'Tenure', 'Balance', 'NumOfProducts', 'EstimatedSalary']\n\nscaler = StandardScaler()\nscaler.fit(features_train[numeric])\n\nfeatures_train[numeric] = scaler.transform(features_train[numeric])\nfeatures_valid[numeric] = scaler.transform(features_valid[numeric])\nfeatures_test[numeric] = scaler.transform(features_test[numeric])",
      "metadata": {
        "scrolled": true
      },
      "execution_count": 4,
      "outputs": [
        {
          "name": "stderr",
          "output_type": "stream",
          "text": "/tmp/ipykernel_31/1941684496.py:6: SettingWithCopyWarning: \n\nA value is trying to be set on a copy of a slice from a DataFrame.\n\nTry using .loc[row_indexer,col_indexer] = value instead\n\n\n\nSee the caveats in the documentation: https://pandas.pydata.org/pandas-docs/stable/user_guide/indexing.html#returning-a-view-versus-a-copy\n\n  features_train[numeric] = scaler.transform(features_train[numeric])\n\n/opt/conda/lib/python3.9/site-packages/pandas/core/indexing.py:1738: SettingWithCopyWarning: \n\nA value is trying to be set on a copy of a slice from a DataFrame.\n\nTry using .loc[row_indexer,col_indexer] = value instead\n\n\n\nSee the caveats in the documentation: https://pandas.pydata.org/pandas-docs/stable/user_guide/indexing.html#returning-a-view-versus-a-copy\n\n  self._setitem_single_column(loc, value[:, i].tolist(), pi)\n\n/tmp/ipykernel_31/1941684496.py:7: SettingWithCopyWarning: \n\nA value is trying to be set on a copy of a slice from a DataFrame.\n\nTry using .loc[row_indexer,col_indexer] = value instead\n\n\n\nSee the caveats in the documentation: https://pandas.pydata.org/pandas-docs/stable/user_guide/indexing.html#returning-a-view-versus-a-copy\n\n  features_valid[numeric] = scaler.transform(features_valid[numeric])\n\n/opt/conda/lib/python3.9/site-packages/pandas/core/indexing.py:1738: SettingWithCopyWarning: \n\nA value is trying to be set on a copy of a slice from a DataFrame.\n\nTry using .loc[row_indexer,col_indexer] = value instead\n\n\n\nSee the caveats in the documentation: https://pandas.pydata.org/pandas-docs/stable/user_guide/indexing.html#returning-a-view-versus-a-copy\n\n  self._setitem_single_column(loc, value[:, i].tolist(), pi)\n\n/tmp/ipykernel_31/1941684496.py:8: SettingWithCopyWarning: \n\nA value is trying to be set on a copy of a slice from a DataFrame.\n\nTry using .loc[row_indexer,col_indexer] = value instead\n\n\n\nSee the caveats in the documentation: https://pandas.pydata.org/pandas-docs/stable/user_guide/indexing.html#returning-a-view-versus-a-copy\n\n  features_test[numeric] = scaler.transform(features_test[numeric])\n\n/opt/conda/lib/python3.9/site-packages/pandas/core/indexing.py:1738: SettingWithCopyWarning: \n\nA value is trying to be set on a copy of a slice from a DataFrame.\n\nTry using .loc[row_indexer,col_indexer] = value instead\n\n\n\nSee the caveats in the documentation: https://pandas.pydata.org/pandas-docs/stable/user_guide/indexing.html#returning-a-view-versus-a-copy\n\n  self._setitem_single_column(loc, value[:, i].tolist(), pi)\n"
        }
      ]
    },
    {
      "cell_type": "markdown",
      "source": "Проверка на пропуски показывает, что таких в столбце Tenure примерно 10%. Пропуски удалены поскольку нет возможности восстановить эту информацию. Коррекция типов данных не нужна и аномалий на графиках не видно.\n\nСтолбцы 'RowNumber', 'CustomerId', 'Surname' удалены, поскольку не несут нужной для принятия решений информации.\nСильной зависимости между столбцами матрица корреляции не выявила.\n\nВ датасете осталось два категориальных признака - Geography и Gender. Преобразованы OHE методом.\n\nДатасет разделен на обучающую и валидационную выборки. Признаки отмасштабированы.",
      "metadata": {}
    },
    {
      "cell_type": "markdown",
      "source": "## Исследование задачи",
      "metadata": {}
    },
    {
      "cell_type": "code",
      "source": "df['Exited'].value_counts(normalize=df.shape[1]/2).plot(kind='bar')\nplt.show()",
      "metadata": {},
      "execution_count": 5,
      "outputs": [
        {
          "output_type": "display_data",
          "data": {
            "image/png": "[encoded data removed]",
            "text/plain": [
              "<Figure size 432x288 with 1 Axes>"
            ]
          },
          "metadata": {
            "needs_background": "light"
          }
        }
      ]
    },
    {
      "cell_type": "code",
      "source": "def calc_metrics(prefix, model_arg, featurs_valid_arg, target_valid_arg, draw_curve):\n    predicted_valid = model_arg.predict(featurs_valid_arg)\n    probabilities_valid = model_arg.predict_proba(featurs_valid_arg)\n    probabilities_one_valid = probabilities_valid[:, 1]\n    auc_roc = roc_auc_score(target_valid_arg, probabilities_one_valid)\n    \n    print(prefix, 'precision:', precision_score(target_valid_arg, predicted_valid))\n    print(prefix, 'recall:', recall_score(target_valid_arg, predicted_valid))\n    print(prefix, 'f1:', f1_score(target_valid_arg, predicted_valid))\n    print(prefix, 'AUC-ROC:', auc_roc)\n    \n    if draw_curve:\n        fpr, tpr, thresholds = roc_curve(target_valid_arg, probabilities_one_valid)\n        plt.figure()\n        plt.plot(fpr, tpr)\n        plt.plot([0, 1], [0, 1], linestyle='--')\n        plt.xlim([0.0, 1.0])\n        plt.ylim([0.0, 1.0])\n        plt.xlabel('False Positive Rate')\n        plt.ylabel('True Positive Rate')\n        plt.title('ROC curve')\n        plt.show()        \n\nmodel = DecisionTreeClassifier(random_state=31337)\nmodel.fit(features_train, target_train)\ncalc_metrics('DT', model, features_valid, target_valid, False)",
      "metadata": {},
      "execution_count": 6,
      "outputs": [
        {
          "name": "stdout",
          "output_type": "stream",
          "text": "DT precision: 0.48166259168704156\n\nDT recall: 0.5309973045822103\n\nDT f1: 0.5051282051282051\n\nDT AUC-ROC: 0.6922942324016024\n"
        }
      ]
    },
    {
      "cell_type": "code",
      "source": "model = LogisticRegression(random_state=31337)\nmodel.fit(features_train, target_train)\ncalc_metrics('LR', model, features_valid, target_valid, False)",
      "metadata": {
        "scrolled": true
      },
      "execution_count": 7,
      "outputs": [
        {
          "name": "stdout",
          "output_type": "stream",
          "text": "LR precision: 0.5771812080536913\n\nLR recall: 0.23180592991913745\n\nLR f1: 0.3307692307692307\n\nLR AUC-ROC: 0.7613419755476463\n"
        }
      ]
    },
    {
      "cell_type": "markdown",
      "source": "В данных наблюдается сильный дисбалланс классов целевого признака в сторону отрицательных. Что очевидно, впрочем, конечно же у нас больше оставшихся клиентов банка, нежели ушедших, в ином случае исследование было бы поздно делать. Дерево показывает лучшие результаты, чем логистическая регрессия, в которой полнота имеет очень низкое значение. Однако даже в случае с деревом метрика f1 все еще недостаточно велика.",
      "metadata": {}
    },
    {
      "cell_type": "markdown",
      "source": "## Борьба с дисбалансом",
      "metadata": {}
    },
    {
      "cell_type": "code",
      "source": "def change_sample(features_arg, targets_arg, repeat, random):   \n    features_zeros = features_arg[targets_arg == 0] #.sample(frac=0.9, random_state=random)\n    features_ones = features_arg[targets_arg == 1]\n    target_zeros = targets_arg[targets_arg == 0] #.sample(frac=0.9, random_state=random)\n    target_ones = targets_arg[targets_arg == 1]\n    \n    features_up = pd.concat([features_zeros] + [features_ones] * repeat)\n    target_up = pd.concat([target_zeros] + [target_ones] * repeat)\n    \n    return shuffle(features_up, target_up, random_state=random)",
      "metadata": {},
      "execution_count": 8,
      "outputs": []
    },
    {
      "cell_type": "code",
      "source": "model = LogisticRegression(class_weight='balanced', solver='liblinear', random_state=31337)\nmodel.fit(features_train, target_train)\ncalc_metrics('LR+Weight', model, features_valid, target_valid, False)",
      "metadata": {},
      "execution_count": 9,
      "outputs": [
        {
          "name": "stdout",
          "output_type": "stream",
          "text": "LR+Weight precision: 0.37813884785819796\n\nLR+Weight recall: 0.6900269541778976\n\nLR+Weight f1: 0.48854961832061067\n\nLR+Weight AUC-ROC: 0.7633821536537059\n"
        }
      ]
    },
    {
      "cell_type": "code",
      "source": "print()\nprint('=====Before resampling=====')\nprint('ones:', features_train[target_train==1].shape, 'zeros:', features_train[target_train==0].shape)\n\nfeatures_mod, target_mod = change_sample(features_train, target_train, 5, 31337)\n\nprint()\nprint('=====After resampling=====')\nprint('ones:', features_mod[target_mod==1].shape, 'zeros:', features_mod[target_mod==0].shape)\nprint()",
      "metadata": {},
      "execution_count": 10,
      "outputs": [
        {
          "name": "stdout",
          "output_type": "stream",
          "text": "\n\n=====Before resampling=====\n\nones: (1112, 11) zeros: (4342, 11)\n\n\n\n=====After resampling=====\n\nones: (4448, 11) zeros: (4342, 11)\n\n\n"
        }
      ]
    },
    {
      "cell_type": "markdown",
      "source": "#Cell is converted to markdown in order not to execute it everytime\n\nstored_d = 0\nstored_e = 0\nbest_f1 = 0\n\nfor est in range(1, 200, 5):\n    for depth in range(1, 40, 2):\n        model = RandomForestClassifier(class_weight='balanced', n_estimators=est, max_depth=depth, random_state=31337)\n        model.fit(features_mod, target_mod)\n        predicted_valid = model.predict(features_valid)\n        calc_f1 = f1_score(target_valid, predicted_valid)\n\n        if calc_f1 > best_f1:\n            print('rewrite best from:', best_f1, 'to', calc_f1, 'for depth=', depth, 'and est=', est)\n            best_f1 = calc_f1\n            stored_d = depth\n            stored_e = est\n\nprint('best f1 is:', best_f1, 'for depth=', stored_d, 'and est=', stored_e)",
      "metadata": {}
    },
    {
      "cell_type": "code",
      "source": "model = LogisticRegression(class_weight='balanced', solver='liblinear', random_state=31337)\nmodel.fit(features_mod, target_mod)\ncalc_metrics('LR+Weight+Resample', model, features_valid, target_valid, False)\nprint()\n\nmodel = DecisionTreeClassifier(class_weight='balanced', random_state=31337)\nmodel.fit(features_mod, target_mod)\ncalc_metrics('DT+Resample', model, features_valid, target_valid, False)\nprint()\n\nmodel = RandomForestClassifier(class_weight='balanced', n_estimators=25, max_depth=11, random_state=31337)\nmodel.fit(features_mod, target_mod)\ncalc_metrics('RF+Resample', model, features_valid, target_valid, False)",
      "metadata": {},
      "execution_count": 20,
      "outputs": [
        {
          "name": "stdout",
          "output_type": "stream",
          "text": "LR+Weight+Resample precision: 0.3775811209439528\n\nLR+Weight+Resample recall: 0.6900269541778976\n\nLR+Weight+Resample f1: 0.48808388941849384\n\nLR+Weight+Resample AUC-ROC: 0.7633654003663385\n\n\n\nDT+Resample precision: 0.5\n\nDT+Resample recall: 0.46900269541778977\n\nDT+Resample f1: 0.4840055632823366\n\nDT+Resample AUC-ROC: 0.6744184747807179\n\n\n\nRF+Resample precision: 0.5627906976744186\n\nRF+Resample recall: 0.6522911051212938\n\nRF+Resample f1: 0.6042446941323346\n\nRF+Resample AUC-ROC: 0.8410196795282273\n"
        }
      ]
    },
    {
      "cell_type": "markdown",
      "source": "В качестве первой попытки решения проблемы дисабаланса использовано взвешивание классов. Метрика f1 и полнота показывают существенное улучшение в сравнении даже с деревом решений.\n\nСледующим шагом решения проблемы выбрано увеличение выборки. Метрики не изменились для логистической регрессии, но немного улучшились для дерева решений.\n\nСледующий шаг - попробовать подобрать гиперпараметры для дерева решений.\nС помощью подбора гиперпараметров и выравивания количества классов (убавлено отрицательных и добавлено положительных) удалось довести f1 метрику до 0.5938.\nПосле количества деревьев 9 и глубины 7 метрика расти перестает.",
      "metadata": {}
    },
    {
      "cell_type": "markdown",
      "source": "## Тестирование модели",
      "metadata": {}
    },
    {
      "cell_type": "code",
      "source": "calc_metrics('RF on test', model, features_test, target_test, True)\n\nstd = np.std([tree.feature_importances_ for tree in model.estimators_], axis=0)\nforest_importances = pd.Series(model.feature_importances_, index=features_test.columns)\n\nfig, ax = plt.subplots()\nforest_importances.plot.bar(yerr=std, ax=ax)\nax.set_title(\"feature importances\")\nax.set_ylabel(\"impurity level\")\nfig.tight_layout()",
      "metadata": {},
      "execution_count": 22,
      "outputs": [
        {
          "name": "stdout",
          "output_type": "stream",
          "text": "RF on test precision: 0.5682382133995038\n\nRF on test recall: 0.6172506738544474\n\nRF on test f1: 0.5917312661498708\n\nRF on test AUC-ROC: 0.8472758025247887\n"
        },
        {
          "output_type": "display_data",
          "data": {
            "image/png": "[encoded data removed]",
            "text/plain": [
              "<Figure size 432x288 with 1 Axes>"
            ]
          },
          "metadata": {
            "needs_background": "light"
          }
        },
        {
          "output_type": "display_data",
          "data": {
            "image/png": "[encoded data removed]",
            "text/plain": [
              "<Figure size 432x288 with 1 Axes>"
            ]
          },
          "metadata": {
            "needs_background": "light"
          }
        }
      ]
    },
    {
      "cell_type": "markdown",
      "source": "Несмотря на то, что метрика f1 не достигла целевого результата, кривая ошибок показывает неплохую картинку и площадь кривой тоже дает довольно высокое значение.",
      "metadata": {}
    },
    {
      "cell_type": "markdown",
      "source": "## Чек-лист готовности проекта",
      "metadata": {}
    },
    {
      "cell_type": "markdown",
      "source": "Поставьте 'x' в выполненных пунктах. Далее нажмите Shift+Enter.",
      "metadata": {}
    },
    {
      "cell_type": "markdown",
      "source": "- [x]  Jupyter Notebook открыт\n- [x]  Весь код выполняется без ошибок\n- [x]  Ячейки с кодом расположены в порядке исполнения\n- [x]  Выполнен шаг 1: данные подготовлены\n- [x]  Выполнен шаг 2: задача исследована\n    - [x]  Исследован баланс классов\n    - [x]  Изучены модели без учёта дисбаланса\n    - [x]  Написаны выводы по результатам исследования\n- [x]  Выполнен шаг 3: учтён дисбаланс\n    - [x]  Применено несколько способов борьбы с дисбалансом\n    - [x]  Написаны выводы по результатам исследования\n- [x]  Выполнен шаг 4: проведено тестирование\n- [x]  Удалось достичь *F1*-меры не менее 0.59\n- [x]  Исследована метрика *AUC-ROC*",
      "metadata": {}
    },
    {
      "cell_type": "code",
      "source": "",
      "metadata": {},
      "execution_count": null,
      "outputs": []
    }
  ]
}